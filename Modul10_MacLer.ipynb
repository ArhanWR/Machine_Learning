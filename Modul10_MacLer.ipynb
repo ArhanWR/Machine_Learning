{
  "nbformat": 4,
  "nbformat_minor": 0,
  "metadata": {
    "colab": {
      "provenance": [],
      "authorship_tag": "ABX9TyOb9TQBES/7EaKMwkCh6Qj8",
      "include_colab_link": true
    },
    "kernelspec": {
      "name": "python3",
      "display_name": "Python 3"
    },
    "language_info": {
      "name": "python"
    }
  },
  "cells": [
    {
      "cell_type": "markdown",
      "metadata": {
        "id": "view-in-github",
        "colab_type": "text"
      },
      "source": [
        "<a href=\"https://colab.research.google.com/github/ArhanWR/Machine_Learning/blob/main/Modul10_MacLer.ipynb\" target=\"_parent\"><img src=\"https://colab.research.google.com/assets/colab-badge.svg\" alt=\"Open In Colab\"/></a>"
      ]
    },
    {
      "cell_type": "markdown",
      "source": [
        "# Kelas - Nama (No Absen / NIM)\n",
        "**TI-3A - Arhan Windu Rizki Putra Budianto (10 / 2141720227)**"
      ],
      "metadata": {
        "id": "IFUJnSWyvDNO"
      }
    },
    {
      "cell_type": "markdown",
      "source": [
        "# Praktikum\n",
        "**Praktikum 1**\n",
        "\n",
        "RNN untuk Analisis Sentimen"
      ],
      "metadata": {
        "id": "xT9TffgzvIg_"
      }
    },
    {
      "cell_type": "markdown",
      "source": [
        "Setup\n",
        "\n",
        "Impor matplotlib dan buat fungsi pembantu untuk memplot grafik:"
      ],
      "metadata": {
        "id": "jl5Fzb1-ymok"
      }
    },
    {
      "cell_type": "code",
      "execution_count": null,
      "metadata": {
        "id": "vR-eJy3duwUb"
      },
      "outputs": [],
      "source": [
        "import numpy as np\n",
        "import tensorflow_datasets as tfds\n",
        "import tensorflow as tf\n",
        "\n",
        "tfds.disable_progress_bar()"
      ]
    },
    {
      "cell_type": "code",
      "source": [
        "import matplotlib.pyplot as plt\n",
        "\n",
        "def plot_graphs(history, metric):\n",
        "  plt.plot(history.history[metric])\n",
        "  plt.plot(history.history['val_'+metric], '')\n",
        "  plt.xlabel(\"Epochs\")\n",
        "  plt.ylabel(metric)\n",
        "  plt.legend([metric, 'val_'+metric])"
      ],
      "metadata": {
        "id": "gDcEQ3vfyqbD"
      },
      "execution_count": null,
      "outputs": []
    },
    {
      "cell_type": "markdown",
      "source": [
        "Setup input pipeline\n",
        "\n",
        "Dataset ulasan film IMDB adalah kumpulan data klasifikasi biner—semua ulasan memiliki sentimen positif atau negatif.\n",
        "Download dataset menggunakan TFDS. Lihat loading text tutorial jika ingin me load data secara manual"
      ],
      "metadata": {
        "id": "GSgKsLLGy0us"
      }
    },
    {
      "cell_type": "code",
      "source": [
        "dataset, info = tfds.load('imdb_reviews', with_info=True,\n",
        "                          as_supervised=True)\n",
        "train_dataset, test_dataset = dataset['train'], dataset['test']\n",
        "\n",
        "train_dataset.element_spec"
      ],
      "metadata": {
        "id": "sp1l8WzVy4SV",
        "colab": {
          "base_uri": "https://localhost:8080/"
        },
        "outputId": "482643d6-1fe9-46f5-d2fe-e7c4e0105f27"
      },
      "execution_count": null,
      "outputs": [
        {
          "output_type": "stream",
          "name": "stdout",
          "text": [
            "Downloading and preparing dataset 80.23 MiB (download: 80.23 MiB, generated: Unknown size, total: 80.23 MiB) to /root/tensorflow_datasets/imdb_reviews/plain_text/1.0.0...\n",
            "Dataset imdb_reviews downloaded and prepared to /root/tensorflow_datasets/imdb_reviews/plain_text/1.0.0. Subsequent calls will reuse this data.\n"
          ]
        },
        {
          "output_type": "execute_result",
          "data": {
            "text/plain": [
              "(TensorSpec(shape=(), dtype=tf.string, name=None),\n",
              " TensorSpec(shape=(), dtype=tf.int64, name=None))"
            ]
          },
          "metadata": {},
          "execution_count": 3
        }
      ]
    },
    {
      "cell_type": "markdown",
      "source": [
        "Awalnya ini mengembalikan dataset (teks, pasangan label):"
      ],
      "metadata": {
        "id": "dYIv8dHLy6Ac"
      }
    },
    {
      "cell_type": "code",
      "source": [
        "for example, label in train_dataset.take(1):\n",
        "  print('text: ', example.numpy())\n",
        "  print('label: ', label.numpy())"
      ],
      "metadata": {
        "id": "Z3Y5degKy7zF",
        "colab": {
          "base_uri": "https://localhost:8080/"
        },
        "outputId": "85690ec8-511f-4c9a-ed9c-36b00fb9a7f2"
      },
      "execution_count": null,
      "outputs": [
        {
          "output_type": "stream",
          "name": "stdout",
          "text": [
            "text:  b\"This was an absolutely terrible movie. Don't be lured in by Christopher Walken or Michael Ironside. Both are great actors, but this must simply be their worst role in history. Even their great acting could not redeem this movie's ridiculous storyline. This movie is an early nineties US propaganda piece. The most pathetic scenes were those when the Columbian rebels were making their cases for revolutions. Maria Conchita Alonso appeared phony, and her pseudo-love affair with Walken was nothing but a pathetic emotional plug in a movie that was devoid of any real meaning. I am disappointed that there are movies like this, ruining actor's like Christopher Walken's good name. I could barely sit through it.\"\n",
            "label:  0\n"
          ]
        }
      ]
    },
    {
      "cell_type": "markdown",
      "source": [
        "Berikutnya acak data untuk pelatihan dan membuat kumpulan pasangan (teks, label) ini:"
      ],
      "metadata": {
        "id": "Bl-bJgKfy_m0"
      }
    },
    {
      "cell_type": "code",
      "source": [
        "BUFFER_SIZE = 10000\n",
        "BATCH_SIZE = 64\n",
        "\n",
        "train_dataset = train_dataset.shuffle(BUFFER_SIZE).batch(BATCH_SIZE).prefetch(tf.data.AUTOTUNE)\n",
        "test_dataset = test_dataset.batch(BATCH_SIZE).prefetch(tf.data.AUTOTUNE)\n",
        "\n",
        "for example, label in train_dataset.take(1):\n",
        "  print('texts: ', example.numpy()[:3])\n",
        "  print()\n",
        "  print('labels: ', label.numpy()[:3])"
      ],
      "metadata": {
        "id": "YI9Z-pZ5zCFb",
        "colab": {
          "base_uri": "https://localhost:8080/"
        },
        "outputId": "46cb5cd5-0ea6-4abf-881f-38edffb6514a"
      },
      "execution_count": null,
      "outputs": [
        {
          "output_type": "stream",
          "name": "stdout",
          "text": [
            "texts:  [b\"My children just happened to stop at this movie the other night and as things started to play out it really piqued my interest. I had to head out for bowling league so I had them record it for me on the dvr so I could watch the rest later. Well I just got done watching it and the front of my shirt must be soaked after crying buckets. It was an excellent movie even though I could almost feel the pain and anguish these girls were experiencing. And I never in a million years would have guessed the reason why Alissia had gone from this beautiful girl to an anti-social goth. This was probably WHY my shirt was soaked because I've experienced that same pain that Alissia was feeling. I too would not have sought out this movie, but I'm sure glad I saw it. Very moving, very touching. Great for those who love a good drama or tear-jerker.\"\n",
            " b'I approached this film with low expectations but was very pleasantly surprised. It is very well done and it beats hands down the ballroom dancing movies of recent years, especially \"Strictly Ballroom\". While the music is nice and the dancing colourful, for me the movie is not about dancing. It is about the very Japanese institution that gives male office workers long commutes to work and free time after work for entertainment that does not involve their families. Here we have the man with the complete family and the large mortgage and a flagging zest for life. He is drawn to the attractive image of a young woman in a dance studio he passes during his commute and this leads him to try ballroom dancing. Also Japanese is the fact that the lecherous motives that initiated his new passion are made plain but somehow accepted, at least eventually, by family and audience. Attitudes to ballroom dancing, as conveyed in the film, are definitely non-Western, though the discipline and the music are clearly cultural imports to Japan. The cultural contrasts are thus intriguing. Even without the cultural insights, the colour, the dance and the enthusiasm of the players all make this a fun film to watch.'\n",
            " b'Well, what are the odds! At the exact right moment that a few redneck amateur-scientists discover cave paintings indicating that some type of dinosaur monster might have inhabited the area thousands of years ago, a burning meteor crashes into the lake and spontaneously hatches a monster\\'s egg that has been lying there \\xc2\\x85 for over a thousand years, I suppose! \"The Crater Lake Monster\" is a movie that literally must be seen to be believed, but you better do so in the company of many friends and a pile of ganja in order to make the wholesome a little bit easier to digest. Yes, this is a terrible film with the utmost ramshackle screenplay imaginable and numerous irrelevant padding interludes that are downright embarrassing, but it\\'s also irresistibly charming and so clumsily put together that you simply have to cherish some kind of fondness for it. Half of the film \\xc2\\x96 at least \\xc2\\x96 revolves on the wacky adventures of Arnie and Mitch. These two local yokels own and run a boat renting shop near the lake, but spend most of their days picking their noses and quarreling over fascinating stuff like to spell the word \"bait\". It is mostly during their prototypic Laurel & Hardy situations that new puddles of blood or decapitated heads are discovered in the lake. Steve Hanson, the heroic but not exactly sharp Sheriff is on the case, but only if he\\'s not too busy chasing big city thugs traveling through the area. Halfway through the film, there suddenly is an abrupt scene about a thug robbing a liquor store and killing two people in the process. This textbook \"WTF\" moment appears to take on the complete other side of the country, like in New York City or something, and has absolutely nothing to do with the events going on at Crater Lake. Only like twenty minutes later the robber pops up again in Hicksville and there\\'s an \"exhilarating\" chase through the woods, ending in the Dino\\'s hungry muzzle. The absurd little details in \"The Crater Lake Monster\" are too numerous to mention! For example, this is probably the only creature-feature in which the players discover the obligatory gigantic footprint AFTER they already spotted the actual monster. The goofs in continuity should be legendary as far as I\\'m concerned. It\\'s like everybody forgot to pay attention to it. Night turns into twilight into day and back into twilight \\xc2\\x85 all during one and the same diurnal course! The monster is undeniably the best aspect about the film, especially since it\\'s accomplished through good old fashioned and adorable stop- motion effects. The cute critter is a Plesiosaur; meaning an aquatic dinosaur looking like a crossbreed between Denver the Last Dinosaur and an alligator. \"Crater Lake Monster\" is a unique and unforgettable movie- experience that I can only encourage to track down! The miserable 1 out of 10 rating is just out of principle (and because basically, this IS a very bad film) should be put into perspective, because I might as well could have given it 10 out of 10 for sheer entertainment value.']\n",
            "\n",
            "labels:  [1 1 0]\n"
          ]
        }
      ]
    },
    {
      "cell_type": "markdown",
      "source": [
        "**Buat Teks Encoder**\n",
        "\n",
        "Teks mentah yang dimuat oleh tfds perlu diproses sebelum dapat digunakan dalam model. Cara termudah memproses teks untuk pelatihan adalah menggunakan lapisan TextVectorization. Lapisan ini memiliki banyak kemampuan, namun pada tutorial ini menggunakan perilaku default. Buat lapisan tersebut, dan teruskan teks kumpulan data ke metode .adapt lapisan:"
      ],
      "metadata": {
        "id": "0w2ZMJv4zELH"
      }
    },
    {
      "cell_type": "code",
      "source": [
        "VOCAB_SIZE = 1000\n",
        "encoder = tf.keras.layers.TextVectorization(\n",
        "    max_tokens=VOCAB_SIZE)\n",
        "encoder.adapt(train_dataset.map(lambda text, label: text))"
      ],
      "metadata": {
        "id": "lSlbtdGszG1N"
      },
      "execution_count": null,
      "outputs": []
    },
    {
      "cell_type": "markdown",
      "source": [
        "Metode .adapt mengatur kosakata lapisan. 20 token pertama dapat dilihat dengan kode berikut. Setelah padding dan token yang tidak diketahui, mereka diurutkan berdasarkan frekuensi:"
      ],
      "metadata": {
        "id": "iL1-VfNAzJpO"
      }
    },
    {
      "cell_type": "code",
      "source": [
        "vocab = np.array(encoder.get_vocabulary())\n",
        "vocab[:20]"
      ],
      "metadata": {
        "id": "_qEvzS0gzKPr",
        "colab": {
          "base_uri": "https://localhost:8080/"
        },
        "outputId": "9aa8321a-fd78-4e38-9b1c-084d9baeea64"
      },
      "execution_count": null,
      "outputs": [
        {
          "output_type": "execute_result",
          "data": {
            "text/plain": [
              "array(['', '[UNK]', 'the', 'and', 'a', 'of', 'to', 'is', 'in', 'it', 'i',\n",
              "       'this', 'that', 'br', 'was', 'as', 'for', 'with', 'movie', 'but'],\n",
              "      dtype='<U14')"
            ]
          },
          "metadata": {},
          "execution_count": 7
        }
      ]
    },
    {
      "cell_type": "markdown",
      "source": [
        "Setelah kosakata diatur, lapisan dapat mengkodekan teks ke dalam indeks. Tensor indeks diberi bantalan 0 ke urutan terpanjang dalam batch (kecuali jika Anda menetapkan output_sequence_length tetap):"
      ],
      "metadata": {
        "id": "W_vYRiRLzNTa"
      }
    },
    {
      "cell_type": "code",
      "source": [
        "encoded_example = encoder(example)[:3].numpy()\n",
        "encoded_example"
      ],
      "metadata": {
        "id": "yBPQcjLSzN-k",
        "colab": {
          "base_uri": "https://localhost:8080/"
        },
        "outputId": "16b0a4c9-a202-4246-fd40-11c306577dc8"
      },
      "execution_count": null,
      "outputs": [
        {
          "output_type": "execute_result",
          "data": {
            "text/plain": [
              "array([[ 56, 472,  41, ...,   0,   0,   0],\n",
              "       [ 10,   1,  11, ...,   0,   0,   0],\n",
              "       [ 74,  49,  24, ...,   0,   0,   0]])"
            ]
          },
          "metadata": {},
          "execution_count": 8
        }
      ]
    },
    {
      "cell_type": "markdown",
      "source": [
        "Dengan pengaturan default, prosesnya tidak dapat dibalik sepenuhnya. Ada dua alasan utama untuk itu:\n",
        "- Nilai default untuk argumen standarisasi preprocessing.TextVectorization adalah \"lower_and_strip_punctuation\".\n",
        "- Ukuran kosa kata yang terbatas dan kurangnya fallback berbasis karakter menghasilkan beberapa token yang tidak diketahui."
      ],
      "metadata": {
        "id": "CbayvLgTzTCD"
      }
    },
    {
      "cell_type": "code",
      "source": [
        "for n in range(3):\n",
        "  print(\"Original: \", example[n].numpy())\n",
        "  print(\"Round-trip: \", \" \".join(vocab[encoded_example[n]]))\n",
        "  print()"
      ],
      "metadata": {
        "id": "U3sseuHhzXnL",
        "colab": {
          "base_uri": "https://localhost:8080/"
        },
        "outputId": "e0356872-09ee-40db-d0e9-bfdc64c735d6"
      },
      "execution_count": null,
      "outputs": [
        {
          "output_type": "stream",
          "name": "stdout",
          "text": [
            "Original:  b\"My children just happened to stop at this movie the other night and as things started to play out it really piqued my interest. I had to head out for bowling league so I had them record it for me on the dvr so I could watch the rest later. Well I just got done watching it and the front of my shirt must be soaked after crying buckets. It was an excellent movie even though I could almost feel the pain and anguish these girls were experiencing. And I never in a million years would have guessed the reason why Alissia had gone from this beautiful girl to an anti-social goth. This was probably WHY my shirt was soaked because I've experienced that same pain that Alissia was feeling. I too would not have sought out this movie, but I'm sure glad I saw it. Very moving, very touching. Great for those who love a good drama or tear-jerker.\"\n",
            "Round-trip:  my children just happened to stop at this movie the other night and as things started to play out it really [UNK] my interest i had to head out for [UNK] [UNK] so i had them [UNK] it for me on the [UNK] so i could watch the rest later well i just got done watching it and the [UNK] of my [UNK] must be [UNK] after [UNK] [UNK] it was an excellent movie even though i could almost feel the [UNK] and [UNK] these girls were [UNK] and i never in a [UNK] years would have [UNK] the reason why [UNK] had gone from this beautiful girl to an [UNK] [UNK] this was probably why my [UNK] was [UNK] because ive [UNK] that same [UNK] that [UNK] was feeling i too would not have [UNK] out this movie but im sure [UNK] i saw it very moving very [UNK] great for those who love a good drama or [UNK]                                                                                                                                                                                                                                                                                                                                                                                                                                                                                                         \n",
            "\n",
            "Original:  b'I approached this film with low expectations but was very pleasantly surprised. It is very well done and it beats hands down the ballroom dancing movies of recent years, especially \"Strictly Ballroom\". While the music is nice and the dancing colourful, for me the movie is not about dancing. It is about the very Japanese institution that gives male office workers long commutes to work and free time after work for entertainment that does not involve their families. Here we have the man with the complete family and the large mortgage and a flagging zest for life. He is drawn to the attractive image of a young woman in a dance studio he passes during his commute and this leads him to try ballroom dancing. Also Japanese is the fact that the lecherous motives that initiated his new passion are made plain but somehow accepted, at least eventually, by family and audience. Attitudes to ballroom dancing, as conveyed in the film, are definitely non-Western, though the discipline and the music are clearly cultural imports to Japan. The cultural contrasts are thus intriguing. Even without the cultural insights, the colour, the dance and the enthusiasm of the players all make this a fun film to watch.'\n",
            "Round-trip:  i [UNK] this film with low [UNK] but was very [UNK] surprised it is very well done and it [UNK] hands down the [UNK] [UNK] movies of [UNK] years especially [UNK] [UNK] while the music is nice and the [UNK] [UNK] for me the movie is not about [UNK] it is about the very japanese [UNK] that gives male [UNK] [UNK] long [UNK] to work and free time after work for entertainment that does not [UNK] their [UNK] here we have the man with the complete family and the [UNK] [UNK] and a [UNK] [UNK] for life he is [UNK] to the [UNK] [UNK] of a young woman in a dance [UNK] he [UNK] during his [UNK] and this leads him to try [UNK] [UNK] also japanese is the fact that the [UNK] [UNK] that [UNK] his new [UNK] are made [UNK] but somehow [UNK] at least eventually by family and audience [UNK] to [UNK] [UNK] as [UNK] in the film are definitely [UNK] though the [UNK] and the music are clearly [UNK] [UNK] to [UNK] the [UNK] [UNK] are [UNK] [UNK] even without the [UNK] [UNK] the [UNK] the dance and the [UNK] of the [UNK] all make this a fun film to watch                                                                                                                                                                                                                                                                                                                                                                                                                                                            \n",
            "\n",
            "Original:  b'Well, what are the odds! At the exact right moment that a few redneck amateur-scientists discover cave paintings indicating that some type of dinosaur monster might have inhabited the area thousands of years ago, a burning meteor crashes into the lake and spontaneously hatches a monster\\'s egg that has been lying there \\xc2\\x85 for over a thousand years, I suppose! \"The Crater Lake Monster\" is a movie that literally must be seen to be believed, but you better do so in the company of many friends and a pile of ganja in order to make the wholesome a little bit easier to digest. Yes, this is a terrible film with the utmost ramshackle screenplay imaginable and numerous irrelevant padding interludes that are downright embarrassing, but it\\'s also irresistibly charming and so clumsily put together that you simply have to cherish some kind of fondness for it. Half of the film \\xc2\\x96 at least \\xc2\\x96 revolves on the wacky adventures of Arnie and Mitch. These two local yokels own and run a boat renting shop near the lake, but spend most of their days picking their noses and quarreling over fascinating stuff like to spell the word \"bait\". It is mostly during their prototypic Laurel & Hardy situations that new puddles of blood or decapitated heads are discovered in the lake. Steve Hanson, the heroic but not exactly sharp Sheriff is on the case, but only if he\\'s not too busy chasing big city thugs traveling through the area. Halfway through the film, there suddenly is an abrupt scene about a thug robbing a liquor store and killing two people in the process. This textbook \"WTF\" moment appears to take on the complete other side of the country, like in New York City or something, and has absolutely nothing to do with the events going on at Crater Lake. Only like twenty minutes later the robber pops up again in Hicksville and there\\'s an \"exhilarating\" chase through the woods, ending in the Dino\\'s hungry muzzle. The absurd little details in \"The Crater Lake Monster\" are too numerous to mention! For example, this is probably the only creature-feature in which the players discover the obligatory gigantic footprint AFTER they already spotted the actual monster. The goofs in continuity should be legendary as far as I\\'m concerned. It\\'s like everybody forgot to pay attention to it. Night turns into twilight into day and back into twilight \\xc2\\x85 all during one and the same diurnal course! The monster is undeniably the best aspect about the film, especially since it\\'s accomplished through good old fashioned and adorable stop- motion effects. The cute critter is a Plesiosaur; meaning an aquatic dinosaur looking like a crossbreed between Denver the Last Dinosaur and an alligator. \"Crater Lake Monster\" is a unique and unforgettable movie- experience that I can only encourage to track down! The miserable 1 out of 10 rating is just out of principle (and because basically, this IS a very bad film) should be put into perspective, because I might as well could have given it 10 out of 10 for sheer entertainment value.'\n",
            "Round-trip:  well what are the [UNK] at the [UNK] right moment that a few [UNK] [UNK] [UNK] [UNK] [UNK] [UNK] that some type of [UNK] monster might have [UNK] the [UNK] [UNK] of years ago a [UNK] [UNK] [UNK] into the [UNK] and [UNK] [UNK] a [UNK] [UNK] that has been [UNK] there [UNK] for over a [UNK] years i [UNK] the [UNK] [UNK] monster is a movie that [UNK] must be seen to be [UNK] but you better do so in the [UNK] of many friends and a [UNK] of [UNK] in order to make the [UNK] a little bit [UNK] to [UNK] yes this is a terrible film with the [UNK] [UNK] screenplay [UNK] and [UNK] [UNK] [UNK] [UNK] that are [UNK] [UNK] but its also [UNK] [UNK] and so [UNK] put together that you simply have to [UNK] some kind of [UNK] for it half of the film  at least  [UNK] on the [UNK] [UNK] of [UNK] and [UNK] these two local [UNK] own and run a [UNK] [UNK] [UNK] near the [UNK] but [UNK] most of their days [UNK] their [UNK] and [UNK] over [UNK] stuff like to [UNK] the word [UNK] it is mostly during their [UNK] [UNK] [UNK] [UNK] that new [UNK] of blood or [UNK] [UNK] are [UNK] in the [UNK] [UNK] [UNK] the [UNK] but not exactly [UNK] [UNK] is on the case but only if hes not too [UNK] [UNK] big city [UNK] [UNK] through the [UNK] [UNK] through the film there [UNK] is an [UNK] scene about a [UNK] [UNK] a [UNK] [UNK] and killing two people in the [UNK] this [UNK] [UNK] moment appears to take on the complete other side of the country like in new york city or something and has absolutely nothing to do with the events going on at [UNK] [UNK] only like [UNK] minutes later the [UNK] [UNK] up again in [UNK] and theres an [UNK] [UNK] through the [UNK] ending in the [UNK] [UNK] [UNK] the [UNK] little [UNK] in the [UNK] [UNK] monster are too [UNK] to mention for example this is probably the only [UNK] in which the [UNK] [UNK] the [UNK] [UNK] [UNK] after they already [UNK] the actual monster the [UNK] in [UNK] should be [UNK] as far as im [UNK] its like [UNK] [UNK] to pay attention to it night turns into [UNK] into day and back into [UNK] [UNK] all during one and the same [UNK] course the monster is [UNK] the best [UNK] about the film especially since its [UNK] through good old [UNK] and [UNK] stop [UNK] effects the [UNK] [UNK] is a [UNK] [UNK] an [UNK] [UNK] looking like a [UNK] between [UNK] the last [UNK] and an [UNK] [UNK] [UNK] monster is a unique and [UNK] movie experience that i can only [UNK] to [UNK] down the [UNK] 1 out of 10 rating is just out of [UNK] and because basically this is a very bad film should be put into [UNK] because i might as well could have given it 10 out of 10 for [UNK] entertainment [UNK]                                                                                                                                    \n",
            "\n"
          ]
        }
      ]
    },
    {
      "cell_type": "markdown",
      "source": [
        "**Buat Model**\n",
        "\n",
        "1. Model ini dapat dibuat sebagai tf.keras.Sequential.\n",
        "2. Lapisan pertama adalah encoder, yang mengubah teks menjadi urutan indeks token.\n",
        "3. Setelah encoder adalah lapisan penyematan (embedding layer). Lapisan penyematan menyimpan satu vektor per kata. Saat dipanggil, ini mengubah rangkaian indeks kata menjadi rangkaian vektor. Vektor-vektor ini dapat dilatih. Setelah pelatihan (dengan data yang cukup), kata-kata dengan arti yang mirip sering kali memiliki vektor yang serupa. Pencarian indeks ini jauh lebih efisien daripada operasi setara dengan meneruskan vektor yang disandikan one-hot melalui lapisan tf.keras.layers.Dense.\n",
        "4. Jaringan saraf berulang (RNN) memproses masukan urutan dengan melakukan iterasi melalui elemen. RNN meneruskan keluaran dari satu langkah waktu ke masukannya pada langkah waktu berikutnya.\n",
        "Pembungkus tf.keras.layers.Bidirection juga dapat digunakan dengan lapisan RNN. Ini menyebarkan masukan maju dan mundur melalui lapisan RNN dan kemudian menggabungkan keluaran akhir.\n",
        "  - Keuntungan utama RNN dua arah adalah sinyal dari awal masukan tidak perlu diproses sepanjang waktu untuk memengaruhi keluaran.\n",
        "  -Kerugian utama dari RNN dua arah adalah Anda tidak dapat melakukan streaming prediksi secara efisien saat kata-kata ditambahkan di akhir.\n",
        "5. Setelah RNN mengonversi urutan menjadi satu vektor, kedua lapisan tersebut.Dense melakukan beberapa pemrosesan akhir, dan mengonversi representasi vektor ini menjadi logit tunggal sebagai keluaran klasifikasi.\n",
        "\n",
        "Kode nya adalah sebagai berikut :"
      ],
      "metadata": {
        "id": "KttWfMwezcuU"
      }
    },
    {
      "cell_type": "code",
      "source": [
        "model = tf.keras.Sequential([\n",
        "    encoder,\n",
        "    tf.keras.layers.Embedding(\n",
        "        input_dim=len(encoder.get_vocabulary()),\n",
        "        output_dim=64,\n",
        "        # Use masking to handle the variable sequence lengths\n",
        "        mask_zero=True),\n",
        "    tf.keras.layers.Bidirectional(tf.keras.layers.LSTM(64)),\n",
        "    tf.keras.layers.Dense(64, activation='relu'),\n",
        "    tf.keras.layers.Dense(1)\n",
        "])"
      ],
      "metadata": {
        "id": "M1v9DHSTzx2A"
      },
      "execution_count": null,
      "outputs": []
    },
    {
      "cell_type": "markdown",
      "source": [
        "Harap dicatat bahwa model sekuensial Keras digunakan di sini karena semua lapisan dalam model hanya memiliki masukan tunggal dan menghasilkan keluaran tunggal. Jika Anda ingin menggunakan lapisan RNN stateful, Anda mungkin ingin membangun model Anda dengan API fungsional Keras atau subkelas model sehingga Anda dapat mengambil dan menggunakan kembali status lapisan RNN. Untuk detailnya bisa dilihat pada Keras RNN guide\n",
        "\n",
        "Lapisan penyematan menggunakan masking (uses masking ) untuk menangani panjang urutan yang bervariasi. Semua lapisan setelah penyematan dukungan penyematan"
      ],
      "metadata": {
        "id": "jAl9Ktcjz14M"
      }
    },
    {
      "cell_type": "code",
      "source": [
        "print([layer.supports_masking for layer in model.layers])"
      ],
      "metadata": {
        "id": "j1VrYNnsz5Aw",
        "colab": {
          "base_uri": "https://localhost:8080/"
        },
        "outputId": "d6d48272-afa9-406b-a82b-55359a4f0706"
      },
      "execution_count": null,
      "outputs": [
        {
          "output_type": "stream",
          "name": "stdout",
          "text": [
            "[False, True, True, True, True]\n"
          ]
        }
      ]
    },
    {
      "cell_type": "markdown",
      "source": [
        "Untuk memastikan bahwa ini berfungsi seperti yang diharapkan, evaluasi sebuah kalimat dua kali. Pertama, satu kalimat sehingga tidak ada bantalan (padding) untuk disamarkan:"
      ],
      "metadata": {
        "id": "juqofPpvz9QX"
      }
    },
    {
      "cell_type": "code",
      "source": [
        "# predict on a sample text without padding.\n",
        "\n",
        "sample_text = ('The movie was cool. The animation and the graphics '\n",
        "               'were out of this world. I would recommend this movie.')\n",
        "predictions = model.predict(np.array([sample_text]))\n",
        "print(predictions[0])"
      ],
      "metadata": {
        "id": "WmgxgOwWz-4Q",
        "colab": {
          "base_uri": "https://localhost:8080/"
        },
        "outputId": "f0073ea9-0759-4f71-9291-84c50b79bc18"
      },
      "execution_count": null,
      "outputs": [
        {
          "output_type": "stream",
          "name": "stdout",
          "text": [
            "1/1 [==============================] - 3s 3s/step\n",
            "[0.00981162]\n"
          ]
        }
      ]
    },
    {
      "cell_type": "markdown",
      "source": [
        "Sekarang, evaluasi lagi dalam batch dengan kalimat yang lebih panjang. Hasilnya harus sama:"
      ],
      "metadata": {
        "id": "J7ZViCC00Aij"
      }
    },
    {
      "cell_type": "code",
      "source": [
        "# predict on a sample text with padding\n",
        "\n",
        "padding = \"the \" * 2000\n",
        "predictions = model.predict(np.array([sample_text, padding]))\n",
        "print(predictions[0])"
      ],
      "metadata": {
        "id": "STt1a-JU0CLb",
        "colab": {
          "base_uri": "https://localhost:8080/"
        },
        "outputId": "f385852c-eb30-4d91-afd6-03ad23abdaa7"
      },
      "execution_count": null,
      "outputs": [
        {
          "output_type": "stream",
          "name": "stdout",
          "text": [
            "1/1 [==============================] - 0s 317ms/step\n",
            "[0.00981161]\n"
          ]
        }
      ]
    },
    {
      "cell_type": "markdown",
      "source": [
        "compile model Keras untuk mengonfigurasi proses pelatihan:"
      ],
      "metadata": {
        "id": "8hYklNJM0D32"
      }
    },
    {
      "cell_type": "code",
      "source": [
        "model.compile(loss=tf.keras.losses.BinaryCrossentropy(from_logits=True),\n",
        "              optimizer=tf.keras.optimizers.Adam(1e-4),\n",
        "              metrics=['accuracy'])"
      ],
      "metadata": {
        "id": "I1EsZEdH0EaV"
      },
      "execution_count": null,
      "outputs": []
    },
    {
      "cell_type": "markdown",
      "source": [
        "**Train Model**"
      ],
      "metadata": {
        "id": "QoLjREYT0GGJ"
      }
    },
    {
      "cell_type": "code",
      "source": [
        "history = model.fit(train_dataset, epochs=10,\n",
        "                    validation_data=test_dataset,\n",
        "                    validation_steps=30)"
      ],
      "metadata": {
        "id": "5jkF5nY80J5g",
        "colab": {
          "base_uri": "https://localhost:8080/"
        },
        "outputId": "aab050f3-1cc4-43be-d6ca-69f666214d42"
      },
      "execution_count": null,
      "outputs": [
        {
          "output_type": "stream",
          "name": "stdout",
          "text": [
            "Epoch 1/10\n",
            "391/391 [==============================] - 617s 2s/step - loss: 0.6323 - accuracy: 0.5845 - val_loss: 0.4837 - val_accuracy: 0.7422\n",
            "Epoch 2/10\n",
            "391/391 [==============================] - 581s 1s/step - loss: 0.3921 - accuracy: 0.8216 - val_loss: 0.3711 - val_accuracy: 0.8229\n",
            "Epoch 3/10\n",
            "391/391 [==============================] - 584s 1s/step - loss: 0.3337 - accuracy: 0.8522 - val_loss: 0.3387 - val_accuracy: 0.8542\n",
            "Epoch 4/10\n",
            "391/391 [==============================] - 584s 1s/step - loss: 0.3175 - accuracy: 0.8632 - val_loss: 0.3453 - val_accuracy: 0.8464\n",
            "Epoch 5/10\n",
            "391/391 [==============================] - 588s 2s/step - loss: 0.3129 - accuracy: 0.8653 - val_loss: 0.3270 - val_accuracy: 0.8589\n",
            "Epoch 6/10\n",
            "391/391 [==============================] - 583s 1s/step - loss: 0.3064 - accuracy: 0.8673 - val_loss: 0.3258 - val_accuracy: 0.8573\n",
            "Epoch 7/10\n",
            "391/391 [==============================] - 581s 1s/step - loss: 0.3066 - accuracy: 0.8680 - val_loss: 0.3220 - val_accuracy: 0.8578\n",
            "Epoch 8/10\n",
            "391/391 [==============================] - 585s 1s/step - loss: 0.3040 - accuracy: 0.8697 - val_loss: 0.3228 - val_accuracy: 0.8573\n",
            "Epoch 9/10\n",
            "391/391 [==============================] - 581s 1s/step - loss: 0.3020 - accuracy: 0.8704 - val_loss: 0.3269 - val_accuracy: 0.8609\n",
            "Epoch 10/10\n",
            "391/391 [==============================] - 595s 2s/step - loss: 0.2988 - accuracy: 0.8717 - val_loss: 0.3392 - val_accuracy: 0.8307\n"
          ]
        }
      ]
    },
    {
      "cell_type": "code",
      "source": [
        "test_loss, test_acc = model.evaluate(test_dataset)\n",
        "\n",
        "print('Test Loss:', test_loss)\n",
        "print('Test Accuracy:', test_acc)"
      ],
      "metadata": {
        "id": "kNNbsAma0T9y",
        "colab": {
          "base_uri": "https://localhost:8080/"
        },
        "outputId": "9244c1b1-a95b-4b45-a8f6-6fcfa79926f1"
      },
      "execution_count": null,
      "outputs": [
        {
          "output_type": "stream",
          "name": "stdout",
          "text": [
            "391/391 [==============================] - 142s 362ms/step - loss: 0.3368 - accuracy: 0.8356\n",
            "Test Loss: 0.33679214119911194\n",
            "Test Accuracy: 0.8355600237846375\n"
          ]
        }
      ]
    },
    {
      "cell_type": "code",
      "source": [
        "plt.figure(figsize=(16, 8))\n",
        "plt.subplot(1, 2, 1)\n",
        "plot_graphs(history, 'accuracy')\n",
        "plt.ylim(None, 1)\n",
        "plt.subplot(1, 2, 2)\n",
        "plot_graphs(history, 'loss')\n",
        "plt.ylim(0, None)"
      ],
      "metadata": {
        "id": "WyuU3ijB0WQY",
        "colab": {
          "base_uri": "https://localhost:8080/",
          "height": 675
        },
        "outputId": "cfad86e4-c842-4f96-a224-f8783cecdacb"
      },
      "execution_count": null,
      "outputs": [
        {
          "output_type": "execute_result",
          "data": {
            "text/plain": [
              "(0.0, 0.6489689975976944)"
            ]
          },
          "metadata": {},
          "execution_count": 17
        },
        {
          "output_type": "display_data",
          "data": {
            "text/plain": [
              "<Figure size 1600x800 with 2 Axes>"
            ],
            "image/png": "[encoded data removed]"
          },
          "metadata": {}
        }
      ]
    },
    {
      "cell_type": "markdown",
      "source": [
        "Jalankan prediksi pada kalimat baru:\n",
        "\n",
        "Jika prediksi >= 0,0 berarti positif, jika tidak maka negatif."
      ],
      "metadata": {
        "id": "qqX98JN-0YH9"
      }
    },
    {
      "cell_type": "code",
      "source": [
        "sample_text = ('The movie was cool. The animation and the graphics '\n",
        "               'were out of this world. I would recommend this movie.')\n",
        "predictions = model.predict(np.array([sample_text]))"
      ],
      "metadata": {
        "id": "JwdFOEIA0Z34",
        "colab": {
          "base_uri": "https://localhost:8080/"
        },
        "outputId": "dff42c91-22bc-42f8-b0f1-b11c9f942f6d"
      },
      "execution_count": null,
      "outputs": [
        {
          "output_type": "stream",
          "name": "stdout",
          "text": [
            "1/1 [==============================] - 3s 3s/step\n"
          ]
        }
      ]
    },
    {
      "cell_type": "markdown",
      "source": [
        "**Stack two or more LSTM layers**\n",
        "\n",
        "Lapisan berulang Keras memiliki dua mode yang tersedia yang dikontrol oleh argumen konstruktor return_sequences :\n",
        "- Jika False, ia hanya mengembalikan keluaran terakhir untuk setiap urutan masukan (bentuk tensor 2D (batch_size, output_features)). Ini adalah default yang digunakan pada model sebelumnya.\n",
        "- Jika True, Sequence lengkap output berturut-turut untuk setiap langkah waktu dikembalikan (bentuk tensor 3D (ukuran_batch, langkah waktu, fitur_output)).\n",
        "\n",
        "Berikut adalah alur informasi dengan return_sequences=True:\n",
        "\n",
        "Hal yang menarik dari penggunaan RNN dengan return_sequences=True adalah outputnya masih memiliki 3 axis, sama seperti inputnya, sehingga bisa diteruskan ke layer RNN lain, seperti ini:"
      ],
      "metadata": {
        "id": "HGHyW7Pg0hdd"
      }
    },
    {
      "cell_type": "code",
      "source": [
        "model = tf.keras.Sequential([\n",
        "    encoder,\n",
        "    tf.keras.layers.Embedding(len(encoder.get_vocabulary()), 64, mask_zero=True),\n",
        "    tf.keras.layers.Bidirectional(tf.keras.layers.LSTM(64, return_sequences=True)),\n",
        "    tf.keras.layers.Bidirectional(tf.keras.layers.LSTM(32)),\n",
        "    tf.keras.layers.Dense(64, activation='relu'),\n",
        "    tf.keras.layers.Dropout(0.5),\n",
        "    tf.keras.layers.Dense(1)\n",
        "])"
      ],
      "metadata": {
        "id": "qvLE6nnM0pSA"
      },
      "execution_count": null,
      "outputs": []
    },
    {
      "cell_type": "code",
      "source": [
        "model.compile(loss=tf.keras.losses.BinaryCrossentropy(from_logits=True),\n",
        "              optimizer=tf.keras.optimizers.Adam(1e-4),\n",
        "              metrics=['accuracy'])"
      ],
      "metadata": {
        "id": "E-aJa_GV0076"
      },
      "execution_count": null,
      "outputs": []
    },
    {
      "cell_type": "code",
      "source": [
        "history = model.fit(train_dataset, epochs=10,\n",
        "                    validation_data=test_dataset,\n",
        "                    validation_steps=30)"
      ],
      "metadata": {
        "colab": {
          "base_uri": "https://localhost:8080/"
        },
        "id": "YBQZ5phf06T6",
        "outputId": "1865307d-4621-4d69-dac2-37d268c97b23"
      },
      "execution_count": null,
      "outputs": [
        {
          "output_type": "stream",
          "name": "stdout",
          "text": [
            "Epoch 1/10\n",
            "391/391 [==============================] - 1188s 3s/step - loss: 0.6010 - accuracy: 0.6169 - val_loss: 0.4232 - val_accuracy: 0.8115\n",
            "Epoch 2/10\n",
            "391/391 [==============================] - 1152s 3s/step - loss: 0.3744 - accuracy: 0.8371 - val_loss: 0.3507 - val_accuracy: 0.8573\n",
            "Epoch 3/10\n",
            "391/391 [==============================] - 1116s 3s/step - loss: 0.3320 - accuracy: 0.8574 - val_loss: 0.3403 - val_accuracy: 0.8568\n",
            "Epoch 4/10\n",
            "391/391 [==============================] - 1135s 3s/step - loss: 0.3153 - accuracy: 0.8645 - val_loss: 0.3253 - val_accuracy: 0.8458\n",
            "Epoch 5/10\n",
            "391/391 [==============================] - 1131s 3s/step - loss: 0.3087 - accuracy: 0.8655 - val_loss: 0.3239 - val_accuracy: 0.8448\n",
            "Epoch 6/10\n",
            "391/391 [==============================] - 1135s 3s/step - loss: 0.3037 - accuracy: 0.8689 - val_loss: 0.3202 - val_accuracy: 0.8589\n",
            "Epoch 7/10\n",
            "391/391 [==============================] - 1130s 3s/step - loss: 0.2973 - accuracy: 0.8720 - val_loss: 0.3153 - val_accuracy: 0.8536\n",
            "Epoch 8/10\n",
            "391/391 [==============================] - 1116s 3s/step - loss: 0.2987 - accuracy: 0.8722 - val_loss: 0.3202 - val_accuracy: 0.8536\n",
            "Epoch 9/10\n",
            "391/391 [==============================] - 1137s 3s/step - loss: 0.2942 - accuracy: 0.8728 - val_loss: 0.3253 - val_accuracy: 0.8547\n",
            "Epoch 10/10\n",
            "391/391 [==============================] - 1124s 3s/step - loss: 0.2925 - accuracy: 0.8754 - val_loss: 0.3330 - val_accuracy: 0.8359\n"
          ]
        }
      ]
    },
    {
      "cell_type": "code",
      "source": [
        "test_loss, test_acc = model.evaluate(test_dataset)\n",
        "\n",
        "print('Test Loss:', test_loss)\n",
        "print('Test Accuracy:', test_acc)"
      ],
      "metadata": {
        "id": "-ZhfNvOg1ETg",
        "colab": {
          "base_uri": "https://localhost:8080/"
        },
        "outputId": "3042a435-de10-49d7-8195-9c928ec4261a"
      },
      "execution_count": null,
      "outputs": [
        {
          "output_type": "stream",
          "name": "stdout",
          "text": [
            "391/391 [==============================] - 247s 631ms/step - loss: 0.3293 - accuracy: 0.8406\n",
            "Test Loss: 0.3292680084705353\n",
            "Test Accuracy: 0.8406400084495544\n"
          ]
        }
      ]
    },
    {
      "cell_type": "code",
      "source": [
        "# predict on a sample text without padding.\n",
        "\n",
        "sample_text = ('The movie was not good. The animation and the graphics '\n",
        "               'were terrible. I would not recommend this movie.')\n",
        "predictions = model.predict(np.array([sample_text]))\n",
        "print(predictions)"
      ],
      "metadata": {
        "id": "AFiCaP2G1GHy",
        "colab": {
          "base_uri": "https://localhost:8080/"
        },
        "outputId": "ea8b7c67-4c12-470d-d76b-fb8c7838bdec"
      },
      "execution_count": null,
      "outputs": [
        {
          "output_type": "stream",
          "name": "stdout",
          "text": [
            "1/1 [==============================] - 7s 7s/step\n",
            "[[-1.9986403]]\n"
          ]
        }
      ]
    },
    {
      "cell_type": "code",
      "source": [
        "plt.figure(figsize=(16, 6))\n",
        "plt.subplot(1, 2, 1)\n",
        "plot_graphs(history, 'accuracy')\n",
        "plt.subplot(1, 2, 2)\n",
        "plot_graphs(history, 'loss')"
      ],
      "metadata": {
        "id": "xaJg8bqT1LSw",
        "colab": {
          "base_uri": "https://localhost:8080/",
          "height": 509
        },
        "outputId": "a2fc0bee-ee47-44ad-af36-1ae2285bb94d"
      },
      "execution_count": null,
      "outputs": [
        {
          "output_type": "display_data",
          "data": {
            "text/plain": [
              "<Figure size 1600x600 with 2 Axes>"
            ],
            "image/png": "[encoded data removed]"
          },
          "metadata": {}
        }
      ]
    },
    {
      "cell_type": "markdown",
      "source": [
        "**Praktikum 2**\n",
        "\n",
        "Generator Teks dengan RNN\n"
      ],
      "metadata": {
        "id": "s2XYlfnJ1Oql"
      }
    },
    {
      "cell_type": "markdown",
      "source": [
        "Praktikum ini mendemonstrasikan cara melakukan genearsi text menggunakan RNN. Dataset yang digunkan adalah dataset Shakespeare's writing from Andrej Karpathy's The Unreasonable Effectiveness of Recurrent Neural Networks. Jika diberikan urutan karakter dari data ini (\"Shakespear\"), latih model untuk memprediksi karakter berikutnya dalam urutan (\"e\"). Urutan teks yang lebih panjang dapat dihasilkan dengan memanggil model berulang kali.\n",
        "\n",
        "Note: Enable GPU acceleration to execute this notebook faster. In Colab: Runtime > Change runtime type > Hardware accelerator > GPU.\n",
        "\n",
        "Tutorial ini menggunakan tf.keras dan eager execution. Berikut adalah contoh output ketika model dalam tutorial ini dilatih selama 30 epoch, dan dimulai dengan prompt \"Q\":"
      ],
      "metadata": {
        "id": "lb903Hmr1Va2"
      }
    },
    {
      "cell_type": "code",
      "source": [
        "QUEENE:\n",
        "I had thought thou hadst a Roman; for the oracle,\n",
        "Thus by All bids the man against the word,\n",
        "Which are so weak of care, by old care done;\n",
        "Your children were in your holy love,\n",
        "And the precipitation through the bleeding throne.\n",
        "\n",
        "BISHOP OF ELY:\n",
        "Marry, and will, my lord, to weep in such a one were prettiest;\n",
        "Yet now I was adopted heir\n",
        "Of the world's lamentable day,\n",
        "To watch the next way with his father with his face?\n",
        "\n",
        "ESCALUS:\n",
        "The cause why then we are all resolved more sons.\n",
        "\n",
        "VOLUMNIA:\n",
        "O, no, no, no, no, no, no, no, no, no, no, no, no, no, no, no, no, no, no, no, no, it is no sin it should be dead,\n",
        "And love and pale as any will to that word.\n",
        "\n",
        "QUEEN ELIZABETH:\n",
        "But how long have I heard the soul for this world,\n",
        "And show his hands of life be proved to stand.\n",
        "\n",
        "PETRUCHIO:\n",
        "I say he look'd on, if I must be content\n",
        "To stay him from the fatal of our country's bliss.\n",
        "His lordship pluck'd from this sentence then for prey,\n",
        "And then let us twain, being the moon,\n",
        "were she such a case as fills m"
      ],
      "metadata": {
        "id": "PVWrvl9oC1T3"
      },
      "execution_count": null,
      "outputs": []
    },
    {
      "cell_type": "markdown",
      "source": [
        "Meskipun beberapa kalimat memiliki tata bahasa, sebagian besar tidak masuk akal. Model belum mempelajari arti kata-kata, namun anggap saja:\n",
        "- Modelnya berbasis karakter. Saat pelatihan dimulai, model tidak mengetahui cara mengeja kata dalam bahasa Inggris, atau bahkan kata-kata tersebut merupakan satuan teks.\n",
        "- Struktur keluarannya menyerupai sandiwara—blok teks umumnya dimulai dengan nama pembicara, dengan huruf kapital semua mirip dengan kumpulan data.\n",
        "- Seperti yang ditunjukkan di bawah, model dilatih pada kumpulan teks kecil (masing-masing 100 karakter), dan masih mampu menghasilkan rangkaian teks yang lebih panjang dengan struktur yang koheren."
      ],
      "metadata": {
        "id": "r41q7sXGC6y7"
      }
    },
    {
      "cell_type": "markdown",
      "source": [
        "**Setup**"
      ],
      "metadata": {
        "id": "fdSKDy3aDEBV"
      }
    },
    {
      "cell_type": "code",
      "source": [
        "# Import TensorFlow\n",
        "import tensorflow as tf\n",
        "import numpy as np\n",
        "import os\n",
        "import time"
      ],
      "metadata": {
        "id": "QrWWUASvDFJF"
      },
      "execution_count": null,
      "outputs": []
    },
    {
      "cell_type": "code",
      "source": [
        "# Download Dataset Shakespeare\n",
        "# Sesuaikan dengan lokasi data yang Anda punya.\n",
        "path_to_file=tf.keras.utils.get_file('shakespeare.txt','https://storage.googleapis.com/download.tensorflow.org/data/shakespeare.txt')"
      ],
      "metadata": {
        "colab": {
          "base_uri": "https://localhost:8080/"
        },
        "id": "xMNvmzouDH3-",
        "outputId": "9197a7be-0d79-4140-9db8-d662e727b63b"
      },
      "execution_count": null,
      "outputs": [
        {
          "output_type": "stream",
          "name": "stdout",
          "text": [
            "Downloading data from https://storage.googleapis.com/download.tensorflow.org/data/shakespeare.txt\n",
            "1115394/1115394 [==============================] - 0s 0us/step\n"
          ]
        }
      ]
    },
    {
      "cell_type": "code",
      "source": [
        "# Load Data\n",
        "# Read, then decode for py2 compat.\n",
        "text = open(path_to_file, 'rb').read().decode(encoding='utf-8')\n",
        "# length of text is the number of characters in it\n",
        "print(f'Length of text: {len(text)} characters')"
      ],
      "metadata": {
        "colab": {
          "base_uri": "https://localhost:8080/"
        },
        "id": "-FHFeM6jDXQ1",
        "outputId": "062c25ee-b1c2-4a3f-87cf-b68333afb6b7"
      },
      "execution_count": null,
      "outputs": [
        {
          "output_type": "stream",
          "name": "stdout",
          "text": [
            "Length of text: 1115394 characters\n"
          ]
        }
      ]
    },
    {
      "cell_type": "code",
      "source": [
        "# Take a look at the first 250 characters in text\n",
        "print(text[:250])"
      ],
      "metadata": {
        "colab": {
          "base_uri": "https://localhost:8080/"
        },
        "id": "cS6ZcAkiDaJc",
        "outputId": "60259065-820d-49d4-e69b-73fa45f48fd2"
      },
      "execution_count": null,
      "outputs": [
        {
          "output_type": "stream",
          "name": "stdout",
          "text": [
            "First Citizen:\n",
            "Before we proceed any further, hear me speak.\n",
            "\n",
            "All:\n",
            "Speak, speak.\n",
            "\n",
            "First Citizen:\n",
            "You are all resolved rather to die than to famish?\n",
            "\n",
            "All:\n",
            "Resolved. resolved.\n",
            "\n",
            "First Citizen:\n",
            "First, you know Caius Marcius is chief enemy to the people.\n",
            "\n"
          ]
        }
      ]
    },
    {
      "cell_type": "code",
      "source": [
        "# The unique characters in the file\n",
        "vocab = sorted(set(text))\n",
        "print(f'{len(vocab)} unique characters')"
      ],
      "metadata": {
        "colab": {
          "base_uri": "https://localhost:8080/"
        },
        "id": "8QQz6nl7Db4g",
        "outputId": "2121bf41-4cde-4a10-98b7-acdfb0b38e14"
      },
      "execution_count": null,
      "outputs": [
        {
          "output_type": "stream",
          "name": "stdout",
          "text": [
            "65 unique characters\n"
          ]
        }
      ]
    },
    {
      "cell_type": "markdown",
      "source": [
        "**Olah Teks**\n",
        "\n",
        "Vectorize Teks\n",
        "\n",
        "Sebelum training, Anda perlu mengonversi string menjadi representasi numerik. tf.keras.layers.StringLookup dapat mengubah setiap karakter menjadi ID numerik. Caranya adalah teks akan dipecah menjadi token terlebih dahulu."
      ],
      "metadata": {
        "id": "jWGmNbdPDfP5"
      }
    },
    {
      "cell_type": "code",
      "source": [
        "example_texts=['abcdefg','xyz']\n",
        "chars=tf.strings.unicode_split(example_texts,input_encoding='UTF-8')\n",
        "chars"
      ],
      "metadata": {
        "colab": {
          "base_uri": "https://localhost:8080/"
        },
        "id": "pzbwQoY9DkIC",
        "outputId": "c5ac68c6-1718-4b9c-f37c-8b3b34698bbe"
      },
      "execution_count": null,
      "outputs": [
        {
          "output_type": "execute_result",
          "data": {
            "text/plain": [
              "<tf.RaggedTensor [[b'a', b'b', b'c', b'd', b'e', b'f', b'g'], [b'x', b'y', b'z']]>"
            ]
          },
          "metadata": {},
          "execution_count": 6
        }
      ]
    },
    {
      "cell_type": "code",
      "source": [
        "# sekarang buat tf.keras.layers.StringLookup layer:\n",
        "ids_from_chars=tf.keras.layers.StringLookup(\n",
        "vocabulary=list(vocab),mask_token=None)"
      ],
      "metadata": {
        "id": "uftMNdt1Dp-v"
      },
      "execution_count": null,
      "outputs": []
    },
    {
      "cell_type": "code",
      "source": [
        "# perintah diatas mengconvert token menjadi id\n",
        "ids=ids_from_chars(chars)\n",
        "ids"
      ],
      "metadata": {
        "colab": {
          "base_uri": "https://localhost:8080/"
        },
        "id": "ncwlxZKWDv07",
        "outputId": "213ff550-5a87-4549-e521-f985edef4d12"
      },
      "execution_count": null,
      "outputs": [
        {
          "output_type": "execute_result",
          "data": {
            "text/plain": [
              "<tf.RaggedTensor [[40, 41, 42, 43, 44, 45, 46], [63, 64, 65]]>"
            ]
          },
          "metadata": {},
          "execution_count": 9
        }
      ]
    },
    {
      "cell_type": "markdown",
      "source": [
        "Karena tujuan tutorial ini adalah untuk menghasilkan teks, penting juga untuk membalikkan representasi ini. Untuk ini Anda dapat menggunakan kode tf.keras.layers.StringLookup(..., invert=True).\n",
        "\n",
        "Catatan: pada kode ini, daripada meneruskan kosakata asli yang dihasilkan dengan diurutkan(set(teks)) gunakan metode get_vocabulary() dari tf.keras.layers.StringLookup sehingga token [UNK] disetel dengan cara yang sama."
      ],
      "metadata": {
        "id": "mn2hF-CqD0UW"
      }
    },
    {
      "cell_type": "code",
      "source": [
        "chars_from_ids = tf.keras.layers.StringLookup(\n",
        "    vocabulary=ids_from_chars.get_vocabulary(), invert=True, mask_token=None)"
      ],
      "metadata": {
        "id": "KJsLaU53D28m"
      },
      "execution_count": null,
      "outputs": []
    },
    {
      "cell_type": "markdown",
      "source": [
        "Lapisan ini mengconvert kembali karakter dari vektor ID, dan mengembalikannya sebagai karakter tf.RaggedTensor:"
      ],
      "metadata": {
        "id": "Kd-64nkMD8CX"
      }
    },
    {
      "cell_type": "code",
      "source": [
        "chars=chars_from_ids(ids)\n",
        "chars"
      ],
      "metadata": {
        "colab": {
          "base_uri": "https://localhost:8080/"
        },
        "id": "RimI2bG5D9pU",
        "outputId": "0a7098c5-060d-4670-e50c-9177601f2d09"
      },
      "execution_count": null,
      "outputs": [
        {
          "output_type": "execute_result",
          "data": {
            "text/plain": [
              "<tf.RaggedTensor [[b'a', b'b', b'c', b'd', b'e', b'f', b'g'], [b'x', b'y', b'z']]>"
            ]
          },
          "metadata": {},
          "execution_count": 11
        }
      ]
    },
    {
      "cell_type": "markdown",
      "source": [
        "Anda dapat menggunakan tf.strings.reduce_join untuk menggabungkan kembali karakter menjadi string."
      ],
      "metadata": {
        "id": "JSmlg3D7EAXa"
      }
    },
    {
      "cell_type": "code",
      "source": [
        "tf.strings.reduce_join(chars,axis=-1).numpy()"
      ],
      "metadata": {
        "colab": {
          "base_uri": "https://localhost:8080/"
        },
        "id": "994ni0yUEBOZ",
        "outputId": "bd512295-7346-413e-c2d4-482d7583fb13"
      },
      "execution_count": null,
      "outputs": [
        {
          "output_type": "execute_result",
          "data": {
            "text/plain": [
              "array([b'abcdefg', b'xyz'], dtype=object)"
            ]
          },
          "metadata": {},
          "execution_count": 13
        }
      ]
    },
    {
      "cell_type": "code",
      "source": [
        "def text_from_ids(ids):\n",
        "    return tf.strings.reduce_join(chars_from_ids(ids), axis=-1)"
      ],
      "metadata": {
        "id": "39e-TREfEFv4"
      },
      "execution_count": null,
      "outputs": []
    },
    {
      "cell_type": "markdown",
      "source": [
        "**Prediksi**\n",
        "\n",
        "Diberikan sebuah karakter, atau serangkaian karakter, karakter apa yang paling mungkin berikutnya? Ini adalah tugas yang harus Anda latih agar model dapat melakukannya. Masukan ke model akan berupa urutan karakter, dan Anda melatih model untuk memprediksi keluaran berupa karakter berikut pada setiap langkah waktu. Karena RNN mempertahankan keadaan internal yang bergantung pada elemen yang terlihat sebelumnya, mengingat semua karakter dihitung hingga saat ini, karakter apa selanjutnya?"
      ],
      "metadata": {
        "id": "Xy9C4uRvEMdm"
      }
    },
    {
      "cell_type": "markdown",
      "source": [
        "Membuat Trianing Set dan Target\n",
        "\n",
        "Selanjutnya bagilah teks menjadi contoh sequence. Setiap masukan sequence akan berisi karakter seq_length dari teks. Untuk setiap masukan sequence, target prediksi berisi teks dengan panjang yang sama, hanya digeser satu karakter ke kanan. Jadi, bagi teks menjadi beberapa bagian seq_length+1. Misalnya, seq_length adalah 4 dan teks kita adalah \"Hello\". Urutan masukannya adalah \"Hell\", dan urutan targetnya adalah \"ello\". Untuk melakukan ini, pertama-tama gunakan fungsi tf.data.Dataset.from_tensor_slices untuk mengonversi vektor teks menjadi aliran indeks karakter."
      ],
      "metadata": {
        "id": "khnFMhrEENhZ"
      }
    },
    {
      "cell_type": "code",
      "source": [
        "all_ids=ids_from_chars(tf.strings.unicode_split(text,'UTF-8'))\n",
        "all_ids"
      ],
      "metadata": {
        "colab": {
          "base_uri": "https://localhost:8080/"
        },
        "id": "D763RR97ERBS",
        "outputId": "b3935eb0-286e-4185-936d-c2f0685d78b2"
      },
      "execution_count": null,
      "outputs": [
        {
          "output_type": "execute_result",
          "data": {
            "text/plain": [
              "<tf.Tensor: shape=(1115394,), dtype=int64, numpy=array([19, 48, 57, ..., 46,  9,  1])>"
            ]
          },
          "metadata": {},
          "execution_count": 15
        }
      ]
    },
    {
      "cell_type": "code",
      "source": [
        "ids_dataset=tf.data.Dataset.from_tensor_slices(all_ids)"
      ],
      "metadata": {
        "id": "Ib4c9bVuEUCu"
      },
      "execution_count": null,
      "outputs": []
    },
    {
      "cell_type": "code",
      "source": [
        "for ids in ids_dataset.take(10):\n",
        "    print(chars_from_ids(ids).numpy().decode('utf-8'))"
      ],
      "metadata": {
        "colab": {
          "base_uri": "https://localhost:8080/"
        },
        "id": "MKALmmNnEWUq",
        "outputId": "21c429fc-a4cd-4d4f-cd94-7a7bad394811"
      },
      "execution_count": null,
      "outputs": [
        {
          "output_type": "stream",
          "name": "stdout",
          "text": [
            "F\n",
            "i\n",
            "r\n",
            "s\n",
            "t\n",
            " \n",
            "C\n",
            "i\n",
            "t\n",
            "i\n"
          ]
        }
      ]
    },
    {
      "cell_type": "code",
      "source": [
        "seq_length = 100"
      ],
      "metadata": {
        "id": "UDvwLIKIEacN"
      },
      "execution_count": null,
      "outputs": []
    },
    {
      "cell_type": "markdown",
      "source": [
        "Metode batch memungkinkan Anda dengan mudah mengonversi karakter individual ini menjadi urutan ukuran yang diinginkan."
      ],
      "metadata": {
        "id": "AXkAMv-1Ed8_"
      }
    },
    {
      "cell_type": "code",
      "source": [
        "sequences = ids_dataset.batch(seq_length+1, drop_remainder=True)\n",
        "\n",
        "for seq in sequences.take(1):\n",
        "  print(chars_from_ids(seq))"
      ],
      "metadata": {
        "colab": {
          "base_uri": "https://localhost:8080/"
        },
        "id": "Sa_jyCq3EeQ7",
        "outputId": "b24c5d12-753f-42a4-8d70-4f294ba77aa8"
      },
      "execution_count": null,
      "outputs": [
        {
          "output_type": "stream",
          "name": "stdout",
          "text": [
            "tf.Tensor(\n",
            "[b'F' b'i' b'r' b's' b't' b' ' b'C' b'i' b't' b'i' b'z' b'e' b'n' b':'\n",
            " b'\\n' b'B' b'e' b'f' b'o' b'r' b'e' b' ' b'w' b'e' b' ' b'p' b'r' b'o'\n",
            " b'c' b'e' b'e' b'd' b' ' b'a' b'n' b'y' b' ' b'f' b'u' b'r' b't' b'h'\n",
            " b'e' b'r' b',' b' ' b'h' b'e' b'a' b'r' b' ' b'm' b'e' b' ' b's' b'p'\n",
            " b'e' b'a' b'k' b'.' b'\\n' b'\\n' b'A' b'l' b'l' b':' b'\\n' b'S' b'p' b'e'\n",
            " b'a' b'k' b',' b' ' b's' b'p' b'e' b'a' b'k' b'.' b'\\n' b'\\n' b'F' b'i'\n",
            " b'r' b's' b't' b' ' b'C' b'i' b't' b'i' b'z' b'e' b'n' b':' b'\\n' b'Y'\n",
            " b'o' b'u' b' '], shape=(101,), dtype=string)\n"
          ]
        }
      ]
    },
    {
      "cell_type": "markdown",
      "source": [
        "akan lebih mudah untuk melihat apa yang dilakukan jika Anda menggabungkan token kembali menjadi string:"
      ],
      "metadata": {
        "id": "oXyamOZyEhIE"
      }
    },
    {
      "cell_type": "code",
      "source": [
        "for seq in sequences.take(5):\n",
        "    print(text_from_ids(seq).numpy())"
      ],
      "metadata": {
        "colab": {
          "base_uri": "https://localhost:8080/"
        },
        "id": "cI7ipcxREhd3",
        "outputId": "4b36b0dc-e880-4cf2-f8ae-f2fd4ed9589a"
      },
      "execution_count": null,
      "outputs": [
        {
          "output_type": "stream",
          "name": "stdout",
          "text": [
            "b'First Citizen:\\nBefore we proceed any further, hear me speak.\\n\\nAll:\\nSpeak, speak.\\n\\nFirst Citizen:\\nYou '\n",
            "b'are all resolved rather to die than to famish?\\n\\nAll:\\nResolved. resolved.\\n\\nFirst Citizen:\\nFirst, you k'\n",
            "b\"now Caius Marcius is chief enemy to the people.\\n\\nAll:\\nWe know't, we know't.\\n\\nFirst Citizen:\\nLet us ki\"\n",
            "b\"ll him, and we'll have corn at our own price.\\nIs't a verdict?\\n\\nAll:\\nNo more talking on't; let it be d\"\n",
            "b'one: away, away!\\n\\nSecond Citizen:\\nOne word, good citizens.\\n\\nFirst Citizen:\\nWe are accounted poor citi'\n"
          ]
        }
      ]
    },
    {
      "cell_type": "markdown",
      "source": [
        "Untuk pelatihan, Anda memerlukan kumpulan data pasangan (input, label). Dimana input dan label merupakan urutan. Pada setiap langkah waktu, inputnya adalah karakter saat ini dan labelnya adalah karakter berikutnya. Berikut adalah fungsi yang mengambil urutan sebagai masukan, menduplikasi, dan menggesernya untuk menyelaraskan masukan dan label untuk setiap langkah waktu:"
      ],
      "metadata": {
        "id": "RLL294YUEl4z"
      }
    },
    {
      "cell_type": "code",
      "source": [
        "def split_input_target(sequence):\n",
        "    input_text = sequence[:-1]\n",
        "    target_text = sequence[1:]\n",
        "    return input_text, target_text"
      ],
      "metadata": {
        "id": "JZ-btLWuEm3Y"
      },
      "execution_count": null,
      "outputs": []
    },
    {
      "cell_type": "code",
      "source": [
        "split_input_target(list(\"Tensorflow\"))"
      ],
      "metadata": {
        "colab": {
          "base_uri": "https://localhost:8080/"
        },
        "id": "RV1FZFeeEv37",
        "outputId": "727337d8-3889-4952-9543-38dda988ceec"
      },
      "execution_count": null,
      "outputs": [
        {
          "output_type": "execute_result",
          "data": {
            "text/plain": [
              "(['T', 'e', 'n', 's', 'o', 'r', 'f', 'l', 'o'],\n",
              " ['e', 'n', 's', 'o', 'r', 'f', 'l', 'o', 'w'])"
            ]
          },
          "metadata": {},
          "execution_count": 22
        }
      ]
    },
    {
      "cell_type": "code",
      "source": [
        "dataset = sequences.map(split_input_target)"
      ],
      "metadata": {
        "id": "p3Wq4h4AEvv5"
      },
      "execution_count": null,
      "outputs": []
    },
    {
      "cell_type": "code",
      "source": [
        "for input_example, target_example in dataset.take(1):\n",
        "    print(\"Input :\", text_from_ids(input_example).numpy())\n",
        "    print(\"Target:\", text_from_ids(target_example).numpy())"
      ],
      "metadata": {
        "colab": {
          "base_uri": "https://localhost:8080/"
        },
        "id": "ad6LGdYZEvlS",
        "outputId": "84bc072b-7071-4ca1-b5ce-7274c5f716ba"
      },
      "execution_count": null,
      "outputs": [
        {
          "output_type": "stream",
          "name": "stdout",
          "text": [
            "Input : b'First Citizen:\\nBefore we proceed any further, hear me speak.\\n\\nAll:\\nSpeak, speak.\\n\\nFirst Citizen:\\nYou'\n",
            "Target: b'irst Citizen:\\nBefore we proceed any further, hear me speak.\\n\\nAll:\\nSpeak, speak.\\n\\nFirst Citizen:\\nYou '\n"
          ]
        }
      ]
    },
    {
      "cell_type": "markdown",
      "source": [
        "**Membuat Batch Training**\n",
        "\n",
        "Anda menggunakan tf.data untuk membagi teks menjadi sequence yang dapat diatur. Namun sebelum memasukkan data ini ke dalam model, Anda perlu mengacak data dan mengemasnya ke dalam batch."
      ],
      "metadata": {
        "id": "q75_G6ghE5UX"
      }
    },
    {
      "cell_type": "code",
      "source": [
        "# Batch size\n",
        "BATCH_SIZE = 64\n",
        "\n",
        "# Buffer size to shuffle the dataset\n",
        "# (TF data is designed to work with possibly infinite sequences,\n",
        "# so it doesn't attempt to shuffle the entire sequence in memory. Instead,\n",
        "# it maintains a buffer in which it shuffles elements).\n",
        "BUFFER_SIZE = 10000\n",
        "\n",
        "dataset = (\n",
        "    dataset\n",
        "    .shuffle(BUFFER_SIZE)\n",
        "    .batch(BATCH_SIZE, drop_remainder=True)\n",
        "    .prefetch(tf.data.experimental.AUTOTUNE))\n",
        "\n",
        "dataset"
      ],
      "metadata": {
        "colab": {
          "base_uri": "https://localhost:8080/"
        },
        "id": "UXdM2ZCOE6-J",
        "outputId": "b90e42c3-3372-4ce1-8a0c-779275d16d48"
      },
      "execution_count": null,
      "outputs": [
        {
          "output_type": "execute_result",
          "data": {
            "text/plain": [
              "<_PrefetchDataset element_spec=(TensorSpec(shape=(64, 100), dtype=tf.int64, name=None), TensorSpec(shape=(64, 100), dtype=tf.int64, name=None))>"
            ]
          },
          "metadata": {},
          "execution_count": 25
        }
      ]
    },
    {
      "cell_type": "markdown",
      "source": [
        "**Buat Model**\n",
        "\n",
        "Bagian ini mendefinisikan model sebagai subkelas keras.Model (untuk lebih detilnya, lihat Making new Layers and Models via subclassing).\n",
        "Model yang kita bangun memiliki 3 lapisan neural network :\n",
        "- tf.keras.layers.Embedding: Lapisan masukan. Tabel pencarian yang dapat dilatih yang akan memetakan setiap karakter-ID ke vektor dengan dimensi embedding_dim;\n",
        "- tf.keras.layers.GRU: lapisan RNN dengan ukuran unit=rnn_units (Anda juga dapat menggunakan lapisan LSTM di sini.)\n",
        "- tf.keras.layers.Dense: Lapisan keluaran, dengan keluaran vocab_size. Ini menghasilkan satu logit untuk setiap karakter dalam kosakata. Ini adalah log kemungkinan setiap karakter menurut model."
      ],
      "metadata": {
        "id": "2QBVTUQsE-2o"
      }
    },
    {
      "cell_type": "code",
      "source": [
        "# Length of the vocabulary in StringLookup Layer\n",
        "vocab_size = len(ids_from_chars.get_vocabulary())\n",
        "\n",
        "# The embedding dimension\n",
        "embedding_dim = 256\n",
        "\n",
        "# Number of RNN units\n",
        "rnn_units = 1024"
      ],
      "metadata": {
        "id": "FkLqLi2lFGSi"
      },
      "execution_count": null,
      "outputs": []
    },
    {
      "cell_type": "code",
      "source": [
        "class MyModel(tf.keras.Model):\n",
        "  def __init__(self, vocab_size, embedding_dim, rnn_units):\n",
        "    super().__init__(self)\n",
        "    self.embedding = tf.keras.layers.Embedding(vocab_size, embedding_dim)\n",
        "    self.gru = tf.keras.layers.GRU(rnn_units,\n",
        "                                   return_sequences=True,\n",
        "                                   return_state=True)\n",
        "    self.dense = tf.keras.layers.Dense(vocab_size)\n",
        "\n",
        "  def call(self, inputs, states=None, return_state=False, training=False):\n",
        "    x = inputs\n",
        "    x = self.embedding(x, training=training)\n",
        "    if states is None:\n",
        "      states = self.gru.get_initial_state(x)\n",
        "    x, states = self.gru(x, initial_state=states, training=training)\n",
        "    x = self.dense(x, training=training)\n",
        "\n",
        "    if return_state:\n",
        "      return x, states\n",
        "    else:\n",
        "      return x"
      ],
      "metadata": {
        "id": "hC3_lflSFIj6"
      },
      "execution_count": null,
      "outputs": []
    },
    {
      "cell_type": "code",
      "source": [
        "model = MyModel(\n",
        "    vocab_size=vocab_size,\n",
        "    embedding_dim=embedding_dim,\n",
        "    rnn_units=rnn_units)"
      ],
      "metadata": {
        "id": "2H4XRRhPFKUP"
      },
      "execution_count": null,
      "outputs": []
    },
    {
      "cell_type": "markdown",
      "source": [
        "Untuk setiap karakter, model mencari penyematan, menjalankan GRU satu langkah waktu dengan penyematan sebagai masukan, dan menerapkan dense layer untuk menghasilkan log yang memprediksi kemungkinan log karakter berikutnya:\n",
        "\n",
        "Note: Untuk pelatihan Anda bisa menggunakan model keras.Sequential di sini. Untuk menghasilkan teks nanti, Anda harus mengelola status internal RNN. Akan lebih mudah untuk memasukkan opsi input dan output status di awal, daripada mengatur ulang arsitektur model nanti. untuk detailnya bisa dilihat Keras RNN guide."
      ],
      "metadata": {
        "id": "sY_Y5H-bFMjl"
      }
    },
    {
      "cell_type": "markdown",
      "source": [
        "**Uji Model**\n",
        "\n",
        "Coba jalankan model dan cek apakah sidah sesuai dengan output\n",
        "pertama, cek bentuk dari output"
      ],
      "metadata": {
        "id": "RNy6Kx5IFP-N"
      }
    },
    {
      "cell_type": "code",
      "source": [
        "for input_example_batch, target_example_batch in dataset.take(1):\n",
        "    example_batch_predictions = model(input_example_batch)\n",
        "    print(example_batch_predictions.shape, \"# (batch_size, sequence_length, vocab_size)\")"
      ],
      "metadata": {
        "colab": {
          "base_uri": "https://localhost:8080/"
        },
        "id": "6Ullq7-3FSvV",
        "outputId": "aec69082-27dc-42d8-e5dc-9d75e793faa9"
      },
      "execution_count": null,
      "outputs": [
        {
          "output_type": "stream",
          "name": "stdout",
          "text": [
            "(64, 100, 66) # (batch_size, sequence_length, vocab_size)\n"
          ]
        }
      ]
    },
    {
      "cell_type": "markdown",
      "source": [
        "Dalam contoh di atas, panjang urutan masukan adalah 100 tetapi model dapat dijalankan pada masukan dengan panjang berapa pun:"
      ],
      "metadata": {
        "id": "LkJrPNGsFVwH"
      }
    },
    {
      "cell_type": "code",
      "source": [
        "model.summary()"
      ],
      "metadata": {
        "colab": {
          "base_uri": "https://localhost:8080/"
        },
        "id": "mCsL_sY5FXW_",
        "outputId": "f72f7d53-a07b-433c-9d5f-0d497d4316c0"
      },
      "execution_count": null,
      "outputs": [
        {
          "output_type": "stream",
          "name": "stdout",
          "text": [
            "Model: \"my_model\"\n",
            "_________________________________________________________________\n",
            " Layer (type)                Output Shape              Param #   \n",
            "=================================================================\n",
            " embedding (Embedding)       multiple                  16896     \n",
            "                                                                 \n",
            " gru (GRU)                   multiple                  3938304   \n",
            "                                                                 \n",
            " dense (Dense)               multiple                  67650     \n",
            "                                                                 \n",
            "=================================================================\n",
            "Total params: 4022850 (15.35 MB)\n",
            "Trainable params: 4022850 (15.35 MB)\n",
            "Non-trainable params: 0 (0.00 Byte)\n",
            "_________________________________________________________________\n"
          ]
        }
      ]
    },
    {
      "cell_type": "markdown",
      "source": [
        "Untuk mendapatkan prediksi aktual dari model, Anda perlu mengambil sampel dari distribusi keluaran, untuk mendapatkan indeks karakter aktual. Distribusi ini ditentukan oleh logit pada kosakata karakter. Catatan: Penting untuk mengambil sampel dari distribusi ini karena mengambil argmax dari distribusi tersebut dapat dengan mudah membuat model terjebak dalam infinote loop. Cobalah untuk contoh pertama di batch:"
      ],
      "metadata": {
        "id": "jxCYBD_IFZY8"
      }
    },
    {
      "cell_type": "code",
      "source": [
        "sampled_indices = tf.random.categorical(example_batch_predictions[0], num_samples=1)\n",
        "sampled_indices = tf.squeeze(sampled_indices, axis=-1).numpy()"
      ],
      "metadata": {
        "id": "7tcH70QKFZ7J"
      },
      "execution_count": null,
      "outputs": []
    },
    {
      "cell_type": "markdown",
      "source": [
        "Hal ini memberi kita, pada setiap langkah waktu, prediksi indeks karakter berikutnya:"
      ],
      "metadata": {
        "id": "rhc2JHJlFfcS"
      }
    },
    {
      "cell_type": "code",
      "source": [
        "sampled_indices"
      ],
      "metadata": {
        "colab": {
          "base_uri": "https://localhost:8080/"
        },
        "id": "y2hAMTKXFgza",
        "outputId": "a4a2aade-bf68-4234-9a86-bcde77a7550a"
      },
      "execution_count": null,
      "outputs": [
        {
          "output_type": "execute_result",
          "data": {
            "text/plain": [
              "array([21,  8, 16,  4,  3, 12, 49, 27, 31, 17, 50, 58, 22, 32, 65, 28, 33,\n",
              "       24, 65, 49, 20,  5, 61, 22, 33, 46,  6, 29, 21, 22, 51, 40,  9,  0,\n",
              "       17, 47,  3, 20, 25, 60, 31, 53,  8, 13, 23, 63, 38, 52, 43,  3, 28,\n",
              "       28, 61, 49,  8, 45, 11, 23, 23, 29, 63, 19, 58, 55,  2, 44, 39, 15,\n",
              "       30, 12, 48, 39, 27, 26, 24, 15, 29, 20,  7, 64, 27,  9, 44, 57, 20,\n",
              "       26, 22, 53, 38, 59, 13, 12, 11,  5, 39, 42, 47, 27, 60, 12])"
            ]
          },
          "metadata": {},
          "execution_count": 32
        }
      ]
    },
    {
      "cell_type": "markdown",
      "source": [
        "Dekode kode berikut untuk melihat teks yang diprediksi oleh model tidak terlatih ini:"
      ],
      "metadata": {
        "id": "ha4yUEvTFiXy"
      }
    },
    {
      "cell_type": "code",
      "source": [
        "print(\"Input:\\n\", text_from_ids(input_example_batch[0]).numpy())\n",
        "print()\n",
        "print(\"Next Char Predictions:\\n\", text_from_ids(sampled_indices).numpy())"
      ],
      "metadata": {
        "colab": {
          "base_uri": "https://localhost:8080/"
        },
        "id": "3po8lsBgFiuy",
        "outputId": "1315a4f3-4aef-47bf-fc59-7fd9aff79f09"
      },
      "execution_count": null,
      "outputs": [
        {
          "output_type": "stream",
          "name": "stdout",
          "text": [
            "Input:\n",
            " b\" throne;\\nFor King of England shalt thou be proclaim'd\\nIn every borough as we pass along;\\nAnd he that\"\n",
            "\n",
            "Next Char Predictions:\n",
            " b\"H-C$!;jNRDksISzOTKzjG&vITg'PHIla.[UNK]Dh!GLuRn-?JxYmd!OOvj-f:JJPxFsp eZBQ;iZNMKBPG,yN.erGMInYt?;:&ZchNu;\"\n"
          ]
        }
      ]
    },
    {
      "cell_type": "markdown",
      "source": [
        "**Train Model**\n",
        "\n",
        "Pada titik ini permasalahan dapat dianggap sebagai permasalahan klasifikasi standar. Permasalahan dapat disimpulkan dengan : Berdasarkan status RNN sebelumnya, dan masukan langkah kali ini, prediksi kelas karakter berikutnya."
      ],
      "metadata": {
        "id": "-6yxbavIFnvX"
      }
    },
    {
      "cell_type": "markdown",
      "source": [
        "Tambahan optimizer dan fungsi loss\n",
        "\n",
        "loss function tf.keras.losses.sparse_categorical_crossentropy standar berfungsi dalam kasus ini karena diterapkan di seluruh dimensi terakhir prediksi. Karena model Anda mengembalikan logits, Anda perlu mengatur flag from_logits."
      ],
      "metadata": {
        "id": "Q-0LSkXmFpMm"
      }
    },
    {
      "cell_type": "code",
      "source": [
        "loss = tf.losses.SparseCategoricalCrossentropy(from_logits=True)"
      ],
      "metadata": {
        "id": "Wy4lS2MyFs_F"
      },
      "execution_count": null,
      "outputs": []
    },
    {
      "cell_type": "code",
      "source": [
        "example_batch_mean_loss = loss(target_example_batch, example_batch_predictions)\n",
        "print(\"Prediction shape: \", example_batch_predictions.shape, \" # (batch_size, sequence_length, vocab_size)\")\n",
        "print(\"Mean loss:        \", example_batch_mean_loss)"
      ],
      "metadata": {
        "colab": {
          "base_uri": "https://localhost:8080/"
        },
        "id": "1kmihlCmFvyx",
        "outputId": "a5304fdd-8f46-469e-a398-a46dfdbc3e9b"
      },
      "execution_count": null,
      "outputs": [
        {
          "output_type": "stream",
          "name": "stdout",
          "text": [
            "Prediction shape:  (64, 100, 66)  # (batch_size, sequence_length, vocab_size)\n",
            "Mean loss:         tf.Tensor(4.1886196, shape=(), dtype=float32)\n"
          ]
        }
      ]
    },
    {
      "cell_type": "markdown",
      "source": [
        "Model yang baru diinisialisasi tidak boleh terlalu yakin dengan dirinya sendiri, semua log keluaran harus memiliki besaran yang sama. Untuk mengonfirmasi hal ini, Anda dapat memeriksa bahwa eksponensial dari loss rata-rata harus kira-kira sama dengan ukuran kosakata. Loss yang jauh lebih tinggi berarti model tersebut yakin akan jawaban yang salah, dan memiliki inisialisasi yang buruk:"
      ],
      "metadata": {
        "id": "FZsYB28nFyFo"
      }
    },
    {
      "cell_type": "code",
      "source": [
        "tf.exp(example_batch_mean_loss).numpy()"
      ],
      "metadata": {
        "colab": {
          "base_uri": "https://localhost:8080/"
        },
        "id": "iy-E1cWlF0D3",
        "outputId": "bcbf9c01-9c61-4693-f43b-035c4a265679"
      },
      "execution_count": null,
      "outputs": [
        {
          "output_type": "execute_result",
          "data": {
            "text/plain": [
              "65.93172"
            ]
          },
          "metadata": {},
          "execution_count": 36
        }
      ]
    },
    {
      "cell_type": "markdown",
      "source": [
        "Konfigurasikan prosedur pelatihan menggunakan metode tf.keras.Model.compile. Gunakan tf.keras.optimizers.Adam dengan argumen default dan fungsi loss."
      ],
      "metadata": {
        "id": "o5A2MQxSF14n"
      }
    },
    {
      "cell_type": "code",
      "source": [
        "model.compile(optimizer='adam', loss=loss)"
      ],
      "metadata": {
        "id": "JiFPzb84F3bB"
      },
      "execution_count": null,
      "outputs": []
    },
    {
      "cell_type": "markdown",
      "source": [
        "Konfigurasi Checkpoints\n",
        "\n",
        "Gunakan tf.keras.callbacks.ModelCheckpoint untuk memastikan bahwa checkpoint disimpan selama pelatihan:"
      ],
      "metadata": {
        "id": "cIOE2iKtGJNG"
      }
    },
    {
      "cell_type": "code",
      "source": [
        "# Directory where the checkpoints will be saved\n",
        "checkpoint_dir = './training_checkpoints'\n",
        "# Name of the checkpoint files\n",
        "checkpoint_prefix = os.path.join(checkpoint_dir, \"ckpt_{epoch}\")\n",
        "\n",
        "checkpoint_callback = tf.keras.callbacks.ModelCheckpoint(\n",
        "    filepath=checkpoint_prefix,\n",
        "    save_weights_only=True)"
      ],
      "metadata": {
        "id": "BGnPNB3JGKzd"
      },
      "execution_count": null,
      "outputs": []
    },
    {
      "cell_type": "markdown",
      "source": [
        "Lakukan Proses Training\n",
        "\n",
        "Agar waktu pelatihan tidak terlalu lama, gunakan 10 epoch untuk melatih model. Di Colab, setel runtime ke GPU untuk pelatihan yang lebih cepat."
      ],
      "metadata": {
        "id": "aeSONQ2lGMy9"
      }
    },
    {
      "cell_type": "code",
      "source": [
        "EPOCHS = 20"
      ],
      "metadata": {
        "id": "lkwiHa8-GOpd"
      },
      "execution_count": null,
      "outputs": []
    },
    {
      "cell_type": "code",
      "source": [
        "history = model.fit(dataset, epochs=EPOCHS, callbacks=[checkpoint_callback])"
      ],
      "metadata": {
        "colab": {
          "base_uri": "https://localhost:8080/"
        },
        "id": "UwEVQCF2GPTu",
        "outputId": "97ccf4bc-4167-4978-ae9d-f66a345b307f"
      },
      "execution_count": null,
      "outputs": [
        {
          "output_type": "stream",
          "name": "stdout",
          "text": [
            "Epoch 1/20\n",
            "172/172 [==============================] - 648s 4s/step - loss: 2.7004\n",
            "Epoch 2/20\n",
            "172/172 [==============================] - 616s 4s/step - loss: 1.9751\n",
            "Epoch 3/20\n",
            "172/172 [==============================] - 616s 4s/step - loss: 1.6960\n",
            "Epoch 4/20\n",
            "172/172 [==============================] - 616s 4s/step - loss: 1.5371\n",
            "Epoch 5/20\n",
            "172/172 [==============================] - 616s 4s/step - loss: 1.4419\n",
            "Epoch 6/20\n",
            "172/172 [==============================] - 617s 4s/step - loss: 1.3753\n",
            "Epoch 7/20\n",
            "172/172 [==============================] - 618s 4s/step - loss: 1.3233\n",
            "Epoch 8/20\n",
            "172/172 [==============================] - 617s 4s/step - loss: 1.2805\n",
            "Epoch 9/20\n",
            "172/172 [==============================] - 614s 4s/step - loss: 1.2396\n",
            "Epoch 10/20\n",
            "172/172 [==============================] - 629s 4s/step - loss: 1.2000\n",
            "Epoch 11/20\n",
            "172/172 [==============================] - 618s 4s/step - loss: 1.1603\n",
            "Epoch 12/20\n",
            "172/172 [==============================] - 615s 4s/step - loss: 1.1199\n",
            "Epoch 13/20\n",
            "172/172 [==============================] - 615s 4s/step - loss: 1.0763\n",
            "Epoch 14/20\n",
            "172/172 [==============================] - 611s 4s/step - loss: 1.0311\n",
            "Epoch 15/20\n",
            "172/172 [==============================] - 615s 4s/step - loss: 0.9826\n",
            "Epoch 16/20\n",
            "172/172 [==============================] - 615s 4s/step - loss: 0.9328\n",
            "Epoch 17/20\n",
            "172/172 [==============================] - 613s 4s/step - loss: 0.8817\n",
            "Epoch 18/20\n",
            "172/172 [==============================] - 613s 4s/step - loss: 0.8304\n",
            "Epoch 19/20\n",
            "172/172 [==============================] - 614s 4s/step - loss: 0.7796\n",
            "Epoch 20/20\n",
            "172/172 [==============================] - 613s 4s/step - loss: 0.7322\n"
          ]
        }
      ]
    },
    {
      "cell_type": "markdown",
      "source": [
        "**Generate Teks**\n",
        "\n",
        "Cara termudah untuk menghasilkan teks dengan model ini adalah dengan menjalankannya dalam loop, dan menyimpan status internal model saat Anda menjalankannya.\n",
        "\n",
        "Setiap kali Anda memanggil model, Anda memasukkan beberapa teks dan state internal. Model mengembalikan prediksi untuk karakter berikutnya dan state barunya. Masukkan kembali prediksi dan state ke model untuk terus menghasilkan teks.\n",
        "\n",
        "Berikut ini membuat prediksi satu langkah:"
      ],
      "metadata": {
        "id": "ggZK6_AWGVGz"
      }
    },
    {
      "cell_type": "code",
      "source": [
        "class OneStep(tf.keras.Model):\n",
        "  def __init__(self, model, chars_from_ids, ids_from_chars, temperature=1.0):\n",
        "    super().__init__()\n",
        "    self.temperature = temperature\n",
        "    self.model = model\n",
        "    self.chars_from_ids = chars_from_ids\n",
        "    self.ids_from_chars = ids_from_chars\n",
        "\n",
        "    # Create a mask to prevent \"[UNK]\" from being generated.\n",
        "    skip_ids = self.ids_from_chars(['[UNK]'])[:, None]\n",
        "    sparse_mask = tf.SparseTensor(\n",
        "        # Put a -inf at each bad index.\n",
        "        values=[-float('inf')]*len(skip_ids),\n",
        "        indices=skip_ids,\n",
        "        # Match the shape to the vocabulary\n",
        "        dense_shape=[len(ids_from_chars.get_vocabulary())])\n",
        "    self.prediction_mask = tf.sparse.to_dense(sparse_mask)\n",
        "\n",
        "  @tf.function\n",
        "  def generate_one_step(self, inputs, states=None):\n",
        "    # Convert strings to token IDs.\n",
        "    input_chars = tf.strings.unicode_split(inputs, 'UTF-8')\n",
        "    input_ids = self.ids_from_chars(input_chars).to_tensor()\n",
        "\n",
        "    # Run the model.\n",
        "    # predicted_logits.shape is [batch, char, next_char_logits]\n",
        "    predicted_logits, states = self.model(inputs=input_ids, states=states,\n",
        "                                          return_state=True)\n",
        "    # Only use the last prediction.\n",
        "    predicted_logits = predicted_logits[:, -1, :]\n",
        "    predicted_logits = predicted_logits/self.temperature\n",
        "    # Apply the prediction mask: prevent \"[UNK]\" from being generated.\n",
        "    predicted_logits = predicted_logits + self.prediction_mask\n",
        "\n",
        "    # Sample the output logits to generate token IDs.\n",
        "    predicted_ids = tf.random.categorical(predicted_logits, num_samples=1)\n",
        "    predicted_ids = tf.squeeze(predicted_ids, axis=-1)\n",
        "\n",
        "    # Convert from token ids to characters\n",
        "    predicted_chars = self.chars_from_ids(predicted_ids)\n",
        "\n",
        "    # Return the characters and model state.\n",
        "    return predicted_chars, states"
      ],
      "metadata": {
        "id": "f97RtQiqGb_j"
      },
      "execution_count": null,
      "outputs": []
    },
    {
      "cell_type": "code",
      "source": [
        "one_step_model = OneStep(model, chars_from_ids, ids_from_chars)"
      ],
      "metadata": {
        "id": "QwOoAoURGgba"
      },
      "execution_count": null,
      "outputs": []
    },
    {
      "cell_type": "markdown",
      "source": [
        "Jalankan secara berulang untuk menghasilkan beberapa teks. Melihat teks yang dihasilkan, Anda akan melihat model mengetahui kapan harus menggunakan huruf besar, membuat paragraf, dan meniru kosakata menulis seperti Shakespeare. Karena sedikitnya jumlah epoch pelatihan, model belum belajar membentuk kalimat runtut."
      ],
      "metadata": {
        "id": "b7Xt6PN4Gj5M"
      }
    },
    {
      "cell_type": "code",
      "source": [
        "start = time.time()\n",
        "states = None\n",
        "next_char = tf.constant(['ROMEO:'])\n",
        "result = [next_char]\n",
        "\n",
        "for n in range(1000):\n",
        "  next_char, states = one_step_model.generate_one_step(next_char, states=states)\n",
        "  result.append(next_char)\n",
        "\n",
        "result = tf.strings.join(result)\n",
        "end = time.time()\n",
        "print(result[0].numpy().decode('utf-8'), '\\n\\n' + '_'*80)\n",
        "print('\\nRun time:', end - start)"
      ],
      "metadata": {
        "colab": {
          "base_uri": "https://localhost:8080/"
        },
        "id": "5A4oVT72Gl6M",
        "outputId": "62ca5498-e7a1-4b12-edf9-1de9a39c6ec4"
      },
      "execution_count": null,
      "outputs": [
        {
          "output_type": "stream",
          "name": "stdout",
          "text": [
            "ROMEO:\n",
            "Art thou not bound to Aufitius? let's prove the timples are of punishment\n",
            "With grief and hop so great a subject.\n",
            "\n",
            "KING RICHARD III:\n",
            "Up, mighty private large shall sit upon\n",
            "thy several; how like an eggs of heavenly\n",
            "smiling forth to purge him near. O, the poor gentler, this deliver,\n",
            "And merry or meas with a livence.\n",
            "\n",
            "ROMEO:\n",
            "Which then may walk incoven affrighty in her,\n",
            "Appear'd and talk'd of maids than a Montague\n",
            "Would grace the princess may find sound\n",
            "Thy burning confirm to comp. Twill then,\n",
            "You give him odds, send up this night,\n",
            "We'll serve the purple tear by new.\n",
            "\n",
            "LADY CAPULET:\n",
            "Say by the wars that Buckingham.\n",
            "\n",
            "CORIOLANUS:\n",
            "He has ibve ut the purpose.\n",
            "\n",
            "GREMIO:\n",
            "Yes; if you had changed for his progen after,\n",
            "Is this the mantle, to begin this place. Fester than you\n",
            "profise, that he speaks come against our state\n",
            "And privilege did supply the right: although\n",
            "I now, by thine eyba,'s misery.\n",
            "\n",
            "DUKE VINCENTIO:\n",
            "Send for your thanks, my hand by the rest reften\n",
            "The runCoffords a lovely thruster's d \n",
            "\n",
            "________________________________________________________________________________\n",
            "\n",
            "Run time: 2.2320737838745117\n"
          ]
        }
      ]
    },
    {
      "cell_type": "markdown",
      "source": [
        "Hal termudah yang dapat Anda lakukan untuk meningkatkan hasil adalah dengan melatihnya lebih lama (coba EPOCHS = 30). Anda juga dapat bereksperimen dengan string awal yang berbeda, mencoba menambahkan lapisan RNN lain untuk meningkatkan akurasi model, atau menyesuaikan parameter suhu untuk menghasilkan prediksi yang kurang lebih acak.\n",
        "\n",
        "Jika Anda ingin model menghasilkan teks lebih cepat, hal termudah yang dapat Anda lakukan adalah membuat teks secara batch. Pada contoh di bawah, model menghasilkan 5 keluaran dalam waktu yang hampir sama dengan waktu yang dibutuhkan untuk menghasilkan 1 keluaran di atas."
      ],
      "metadata": {
        "id": "16CX_C8oGm8k"
      }
    },
    {
      "cell_type": "code",
      "source": [
        "start = time.time()\n",
        "states = None\n",
        "next_char = tf.constant(['ROMEO:', 'ROMEO:', 'ROMEO:', 'ROMEO:', 'ROMEO:'])\n",
        "result = [next_char]\n",
        "\n",
        "for n in range(1000):\n",
        "  next_char, states = one_step_model.generate_one_step(next_char, states=states)\n",
        "  result.append(next_char)\n",
        "\n",
        "result = tf.strings.join(result)\n",
        "end = time.time()\n",
        "print(result, '\\n\\n' + '_'*80)\n",
        "print('\\nRun time:', end - start)"
      ],
      "metadata": {
        "colab": {
          "base_uri": "https://localhost:8080/"
        },
        "id": "q4Xsig-UGpDD",
        "outputId": "6afcf24f-cb7b-4814-f0b6-52b049e5a23b"
      },
      "execution_count": null,
      "outputs": [
        {
          "output_type": "stream",
          "name": "stdout",
          "text": [
            "tf.Tensor(\n",
            "[b\"ROMEO:\\nThat he shall make no mighty sorrow strange;\\nNor no man's backs are fled; or else a Roman,\\nAnd my head servants, learn as the places\\nUpon his park blows. While pernicious please,\\nHe came in gills and hoase our country's souls\\nMade frail to ficks and roar'd with dreams,\\nOr by the king is excellent before,\\nWith rushes to the enting virtue stills\\nThat plebeians, being war did take his head.\\n\\nGLOUCESTER:\\nWell may we swear to the poor gentleman--\\n\\nQUEEN ELIZABETH:\\nThen go I warrant you hither come.\\n\\nMONTAGUEE:\\nWe may not little sir, he had successiviled,\\nAnd leaves in cuttom often estance than seen--\\n\\nNurse:\\nPoor wretch, the royalty be the better\\nWho shall be pronounce, something intence,\\nAnd presently, to be do't, you bid me keep Coriol no bed:\\nA certain two days this little brother Roman was, my\\nwonder hath rottended to his life, upon my stame,\\nWhich are so weak upon you for his love to give.\\n\\nGLOUCESTER:\\nHe that had heard in haste, girly slain and a model?\\nMy life shall pince it on you \"\n",
            " b\"ROMEO:\\nBy grial! if he be put upon his blood-raised sweets,\\nAgainst unwire bask'd sons.\\n\\nPROSPERO:\\nThou want, sweet sir! Put upon his thanks than\\nto your country's recompense, in the fiends,\\nThat, as the rest is straight with Jullight;\\nAnd, took the meats of mine boy here,\\nHaving in wark'd in his blood, they know not\\nWhere it like Rome litter'd on thee wall.'\\nAnd so, and if a tox, I'll bring thee to our generative;\\nTo lie in fear'd by himself, of any part,\\nTends that thought it good him grow blood out. Good faith, sir;\\nBut if you lose their souls again, we would not stay.\\n\\nKATHARINA:\\nO Herford, farewell, sir. Give me your heart,\\nMore a there great course,--in the runagate, my\\nfather York is 't not strike? 'tis a devil.\\nHe was tired for my temper, but him\\nWere summer than my tent; the time that live,\\nAnd neither heaven in our breath;\\nFor ne'er was his assistation. Genelood of\\nhanging of her obdinies. My fallion complain,\\nAnd after in my poison die in heaven,\\nWho twostund years Ere now doth bu\"\n",
            " b\"ROMEO:\\nAmong the place; where was the sun behind he is\\ncome to know our blood. I am gone entreat you.\\n\\nBUCKINGHAM:\\nGod and Camillo, thus much: by my letter gate\\nThe grave of your brother and his health to me;\\nAnd I by, I wish you weigh good charity: I am, nor old\\nYork conveying upon his face.\\n\\nGLOUCESTER:\\nLives Henry the wools are gone?\\n\\nSTANLEY:\\nYes, my lord, do honour to be a silly power:\\nThey must be brief, the which she staught in a\\nmost servart.\\n\\nSICINIUS:\\nI tell you, 'twas so disdonies, sir: therefore hath consemn\\nBy his apposite; and, when the orgater?\\n\\nCLAUDIO:\\nA grace with wings colour.\\n\\nMARCIUS:\\nThese nobles swear so sibs\\nAnd virtuous insubut the flat in such be sight\\nWith gloves up by Dike of Came.\\nCould Edward will leave out the watery more\\nThan Bianca: if I thank you here.\\nWhat is the fatal half and take it us to our mystery.\\n\\nProvost:\\nNo.\\n\\nHASTINGS:\\nI do at all till then we have to take in a charter.\\nGood talk, and suffer it with us and goodnessors sense,\\nWho late hath bare bet\"\n",
            " b\"ROMEO:\\nBy peace!\\nTo whom comes their caping tires in the house of York\\nMy patience and my country's gying: it is desperate,\\nHad I inform'd the innocence of unsuits to her.\\n\\nQUEEN MARGARET:\\nO, break.\\n\\nFirst Officer:\\nCome, let's away; for the golden stirr'd upon,\\nWhile well enough but a joy in patience.\\n\\nPARIS:\\nGod father had witness to use known, which is\\nwell.\\n\\nANGELO:\\nHang all the royal breath that would\\nFrom whentended shoulders-poor bedren'd herester,\\nUnto ut, their soul's padamited.\\n\\nMARCIUS:\\nI'll tell you knowing his staff. Ire he hath been in bed\\nIs not like him deserved sleepy praness served.\\n\\nDUKE VINCENTIO:\\nI know not, of all the lustful eye of good to you:\\nHe hath wounded us in Padua is full as lead\\nSo worst their scorfly hate: when rid he tell him\\nThey proved the just and full of what we of\\nthe fight of it: if he say some lay the noble duke arm the\\nday would have strunged me elsewhere then.\\nBut now I have said, sir, to gatch all France.\\n\\nHENRY BOLINBALONG:\\nHe caught at succession \"\n",
            " b\"ROMEO:\\nO, say the ways; officer is taken;\\nFor, by his false sentiness to my dages;\\nAnd when thou hast but plainty is fled with him.\\n\\nKING RICHARD III:\\nIs a tortle boy? if I was Voluceous;\\nOn, cour, my Lord Citizen:\\nWould all the path of murter couples be?\\n\\nLEONTES:\\nBy my fellow prayers;\\nIt is Northumberland, for our complete,\\nPoing to be a subtle of our stricts:\\nI will take it on you to the people,\\nOur compeoration straight, doth she lives make to bed\\nHave I'll proceed with her son shall starve again,\\nIn Warwick takes her at day and to have them more,\\nThat back again, and you must eat;\\nYour shield dissembling grave and work of sorrow;\\nThey'll be annocled here: dis own woming shame\\nThe queen your blody, hath to begin his prey, and here\\nif Gree your willingly dreams not like two clean.\\nObed it so, sir, to its that to bedire.\\n\\nFRIAR LAURENCE:\\nHope look you fool, it was our putier's bode;\\nTo be after thee your counsels,\\nThat we may have them too fasting: the sport\\nnight not in my heart inhined b\"], shape=(5,), dtype=string) \n",
            "\n",
            "________________________________________________________________________________\n",
            "\n",
            "Run time: 2.678149700164795\n"
          ]
        }
      ]
    },
    {
      "cell_type": "markdown",
      "source": [
        "**Ekspor Model Generator**\n",
        "\n",
        "Model satu langkah ini dapat dengan mudah disimpan dan digunakan kembali, memungkinkan Anda menggunakannya di mana pun tf.saved_model diterima."
      ],
      "metadata": {
        "id": "TLhdoTGFHRSr"
      }
    },
    {
      "cell_type": "code",
      "source": [
        "tf.saved_model.save(one_step_model, 'one_step')\n",
        "one_step_reloaded = tf.saved_model.load('one_step')"
      ],
      "metadata": {
        "colab": {
          "base_uri": "https://localhost:8080/"
        },
        "id": "3HTRdw_OHUAo",
        "outputId": "8458c121-e658-4a0a-96d5-f6bd53007c39"
      },
      "execution_count": null,
      "outputs": [
        {
          "output_type": "stream",
          "name": "stderr",
          "text": [
            "WARNING:tensorflow:Skipping full serialization of Keras layer <__main__.OneStep object at 0x7adfb59dbca0>, because it is not built.\n",
            "WARNING:tensorflow:Model's `__init__()` arguments contain non-serializable objects. Please implement a `get_config()` method in the subclassed Model for proper saving and loading. Defaulting to empty config.\n",
            "WARNING:tensorflow:Model's `__init__()` arguments contain non-serializable objects. Please implement a `get_config()` method in the subclassed Model for proper saving and loading. Defaulting to empty config.\n"
          ]
        }
      ]
    },
    {
      "cell_type": "code",
      "source": [
        "states = None\n",
        "next_char = tf.constant(['ROMEO:'])\n",
        "result = [next_char]\n",
        "\n",
        "for n in range(100):\n",
        "  next_char, states = one_step_reloaded.generate_one_step(next_char, states=states)\n",
        "  result.append(next_char)\n",
        "\n",
        "print(tf.strings.join(result)[0].numpy().decode(\"utf-8\"))"
      ],
      "metadata": {
        "colab": {
          "base_uri": "https://localhost:8080/"
        },
        "id": "KvfsLwmeHUh8",
        "outputId": "62ed63b2-aa03-4d21-a8a1-99a17d455e80"
      },
      "execution_count": null,
      "outputs": [
        {
          "output_type": "stream",
          "name": "stdout",
          "text": [
            "ROMEO:\n",
            "Is the other mea? Camillo was the duke.\n",
            "\n",
            "LUCIO:\n",
            "Why, What, in resout thing go by which he\n",
            "is taken:\n"
          ]
        }
      ]
    },
    {
      "cell_type": "markdown",
      "source": [
        "# Tugas Praktikum"
      ],
      "metadata": {
        "id": "Fs-O29hP2rWF"
      }
    },
    {
      "cell_type": "markdown",
      "source": [
        "Prosedur pelatihan pada praktikum 2 merupakan prosedur sederhana, yang tidak memberi Anda banyak kendali. Model ini menggunakan \"teacher-forcing\" yang mencegah prediksi buruk diumpankan kembali ke model, sehingga model tidak pernah belajar untuk pulih dari kesalahan. Jadi, setelah Anda melihat cara menjalankan model secara manual, selanjutnya Anda akan mengimplementasikan custom loop pelatihan. Hal ini memberikan titik awal jika, misalnya, Anda ingin menerapkan pembelajaran kurikulum untuk membantu menstabilkan keluaran open-loop model. Bagian terpenting dari loop pelatihan khusus adalah fungsi langkah pelatihan.\n",
        "\n",
        "Gunakan tf.GradientTape untuk men track nilai gradient. Anda dapat mempelajari lebih lanjut tentang pendekatan ini dengan membaca eager execution guide.\n",
        "\n",
        "Prosedurnya adalah \"\n",
        "\n",
        "1. Jalankan Model dan hitung loss dengan tf.GradientTape.\n",
        "2. Hitung update dan terapkan pada model dengan optimizer\n",
        "```\n",
        "class CustomTraining(MyModel):\n",
        "  @tf.function\n",
        "  def train_step(self, inputs):\n",
        "      inputs, labels = inputs\n",
        "      with tf.GradientTape() as tape:\n",
        "          predictions = self(inputs, training=True)\n",
        "          loss = self.loss(labels, predictions)\n",
        "      grads = tape.gradient(loss, model.trainable_variables)\n",
        "      self.optimizer.apply_gradients(zip(grads, model.trainable_variables))\n",
        "\n",
        "      return {'loss': loss}\n",
        "```\n",
        "Kode diatas menerapkan train_step method sesuai dengan  Keras' train_step conventions. Ini opsional, tetapi memungkinkan Anda mengubah perilaku langkah pelatihan dan tetap menggunakan keras Model.compile and Model.fit methods.\n",
        "```\n",
        "model = CustomTraining(\n",
        "    vocab_size=len(ids_from_chars.get_vocabulary()),\n",
        "    embedding_dim=embedding_dim,\n",
        "    rnn_units=rnn_units)\n",
        "```\n",
        "```\n",
        "model.compile(optimizer = tf.keras.optimizers.Adam(),\n",
        "              loss=tf.keras.losses.SparseCategoricalCrossentropy(from_logits=True))\n",
        "```\n",
        "```\n",
        "model.fit(dataset, epochs=1)\n",
        "```\n",
        "Atau jika ingin lebih mengetahui dalamnya, kita bisa membuat custom training loop sendiri:\n",
        "```\n",
        "EPOCHS = 10\n",
        "\n",
        "mean = tf.metrics.Mean()\n",
        "\n",
        "for epoch in range(EPOCHS):\n",
        "    start = time.time()\n",
        "\n",
        "    mean.reset_states()\n",
        "    for (batch_n, (inp, target)) in enumerate(dataset):\n",
        "        logs = model.train_step([inp, target])\n",
        "        mean.update_state(logs['loss'])\n",
        "\n",
        "        if batch_n % 50 == 0:\n",
        "            template = f\"Epoch {epoch+1} Batch {batch_n} Loss {logs['loss']:.4f}\"\n",
        "            print(template)\n",
        "\n",
        "    # saving (checkpoint) the model every 5 epochs\n",
        "    if (epoch + 1) % 5 == 0:\n",
        "        model.save_weights(checkpoint_prefix.format(epoch=epoch))\n",
        "\n",
        "    print()\n",
        "    print(f'Epoch {epoch+1} Loss: {mean.result().numpy():.4f}')\n",
        "    print(f'Time taken for 1 epoch {time.time() - start:.2f} sec')\n",
        "    print(\"_\"*80)\n",
        "\n",
        "model.save_weights(checkpoint_prefix.format(epoch=epoch))\n",
        "```\n",
        "Jalankan kode diatas dan sebutkan perbedaanya dengan praktikum 2?"
      ],
      "metadata": {
        "id": "u0O10-XXZdaP"
      }
    },
    {
      "cell_type": "markdown",
      "source": [
        "# Jawaban Tugas Praktikum"
      ],
      "metadata": {
        "id": "rkfN8LI6P0DE"
      }
    },
    {
      "cell_type": "code",
      "source": [
        "# Import TensorFlow\n",
        "import tensorflow as tf\n",
        "import numpy as np\n",
        "import os\n",
        "import time"
      ],
      "metadata": {
        "id": "1yXld4EVP-xM"
      },
      "execution_count": 1,
      "outputs": []
    },
    {
      "cell_type": "code",
      "source": [
        "# Download Dataset Shakespeare\n",
        "path_to_file = tf.keras.utils.get_file('shakespeare.txt', 'https://storage.googleapis.com/download.tensorflow.org/data/shakespeare.txt')"
      ],
      "metadata": {
        "colab": {
          "base_uri": "https://localhost:8080/"
        },
        "id": "VRIUSqzVQDip",
        "outputId": "cb7a533e-66f6-49e2-bd42-6aec84bee990"
      },
      "execution_count": 2,
      "outputs": [
        {
          "output_type": "stream",
          "name": "stdout",
          "text": [
            "Downloading data from https://storage.googleapis.com/download.tensorflow.org/data/shakespeare.txt\n",
            "1115394/1115394 [==============================] - 0s 0us/step\n"
          ]
        }
      ]
    },
    {
      "cell_type": "code",
      "source": [
        "# Load Data\n",
        "# Read, then decode for py2 compat.\n",
        "text = open(path_to_file, 'rb').read().decode(encoding='utf-8')\n",
        "# length of text is the number of characters in it\n",
        "print(f'Length of text: {len(text)} characters')\n",
        "print(text[:250])\n",
        "vocab = sorted(set(text))\n",
        "print(f'{len(vocab)} unique characters')"
      ],
      "metadata": {
        "colab": {
          "base_uri": "https://localhost:8080/"
        },
        "id": "2YnDA1gIQGYw",
        "outputId": "c1e0ca30-9cdd-42e3-a421-eefa9dac5fee"
      },
      "execution_count": 3,
      "outputs": [
        {
          "output_type": "stream",
          "name": "stdout",
          "text": [
            "Length of text: 1115394 characters\n",
            "First Citizen:\n",
            "Before we proceed any further, hear me speak.\n",
            "\n",
            "All:\n",
            "Speak, speak.\n",
            "\n",
            "First Citizen:\n",
            "You are all resolved rather to die than to famish?\n",
            "\n",
            "All:\n",
            "Resolved. resolved.\n",
            "\n",
            "First Citizen:\n",
            "First, you know Caius Marcius is chief enemy to the people.\n",
            "\n",
            "65 unique characters\n"
          ]
        }
      ]
    },
    {
      "cell_type": "code",
      "source": [
        "# Olah Teks\n",
        "# Vectorize Teks\n",
        "example_texts = ['abcdefg', 'xyz']\n",
        "chars = tf.strings.unicode_split(example_texts, input_encoding='UTF-8')\n",
        "chars"
      ],
      "metadata": {
        "colab": {
          "base_uri": "https://localhost:8080/"
        },
        "id": "T4Hv2dcdQRWm",
        "outputId": "c0febf17-c2ad-4c01-c091-959609f27e71"
      },
      "execution_count": 4,
      "outputs": [
        {
          "output_type": "execute_result",
          "data": {
            "text/plain": [
              "<tf.RaggedTensor [[b'a', b'b', b'c', b'd', b'e', b'f', b'g'], [b'x', b'y', b'z']]>"
            ]
          },
          "metadata": {},
          "execution_count": 4
        }
      ]
    },
    {
      "cell_type": "code",
      "source": [
        "# sekarang buat tf.keras.layers.StringLookup layer:\n",
        "ids_from_chars = tf.keras.layers.StringLookup(vocabulary=list(vocab), mask_token=None)"
      ],
      "metadata": {
        "id": "aP-u4tMTQS7U"
      },
      "execution_count": 5,
      "outputs": []
    },
    {
      "cell_type": "code",
      "source": [
        "# perintah diatas mengconvert token menjadi id\n",
        "ids = ids_from_chars(chars)\n",
        "ids"
      ],
      "metadata": {
        "colab": {
          "base_uri": "https://localhost:8080/"
        },
        "id": "Mh6PpI0lQUWB",
        "outputId": "07edae7e-340a-4c20-e457-22bb53752f07"
      },
      "execution_count": 6,
      "outputs": [
        {
          "output_type": "execute_result",
          "data": {
            "text/plain": [
              "<tf.RaggedTensor [[40, 41, 42, 43, 44, 45, 46], [63, 64, 65]]>"
            ]
          },
          "metadata": {},
          "execution_count": 6
        }
      ]
    },
    {
      "cell_type": "code",
      "source": [
        "# kosakata asli yang dihasilkan dengan diurutkan(set(teks)) gunakan metode get_vocabulary()\n",
        "chars_from_ids = tf.keras.layers.StringLookup(\n",
        "    vocabulary=ids_from_chars.get_vocabulary(), invert=True, mask_token=None)"
      ],
      "metadata": {
        "id": "UGZmBHTYQV6v"
      },
      "execution_count": 7,
      "outputs": []
    },
    {
      "cell_type": "code",
      "source": [
        "# Lapisan ini mengconvert kembali karakter dari vektor ID, dan mengembalikannya sebagai karakter tf.RaggedTensor\n",
        "chars = chars_from_ids(ids)\n",
        "chars"
      ],
      "metadata": {
        "colab": {
          "base_uri": "https://localhost:8080/"
        },
        "id": "nj3bjViOQXWr",
        "outputId": "d8faa3cc-bdbf-48bb-8dc9-95358c28143f"
      },
      "execution_count": 8,
      "outputs": [
        {
          "output_type": "execute_result",
          "data": {
            "text/plain": [
              "<tf.RaggedTensor [[b'a', b'b', b'c', b'd', b'e', b'f', b'g'], [b'x', b'y', b'z']]>"
            ]
          },
          "metadata": {},
          "execution_count": 8
        }
      ]
    },
    {
      "cell_type": "code",
      "source": [
        "# Anda dapat menggunakan tf.strings.reduce_join untuk menggabungkan kembali karakter menjadi string.\n",
        "tf.strings.reduce_join(chars, axis=-1).numpy()"
      ],
      "metadata": {
        "colab": {
          "base_uri": "https://localhost:8080/"
        },
        "id": "w1zDp_OwQY4A",
        "outputId": "c3f4a813-048e-45a4-869c-818c12628deb"
      },
      "execution_count": 9,
      "outputs": [
        {
          "output_type": "execute_result",
          "data": {
            "text/plain": [
              "array([b'abcdefg', b'xyz'], dtype=object)"
            ]
          },
          "metadata": {},
          "execution_count": 9
        }
      ]
    },
    {
      "cell_type": "code",
      "source": [
        "def text_from_ids(ids):\n",
        "    return tf.strings.reduce_join(chars_from_ids(ids), axis=-1)"
      ],
      "metadata": {
        "id": "X0-gTCYNQaju"
      },
      "execution_count": 10,
      "outputs": []
    },
    {
      "cell_type": "code",
      "source": [
        "# Prediksi\n",
        "# mengonversi vektor teks menjadi aliran indeks karakter.\n",
        "all_ids = ids_from_chars(tf.strings.unicode_split(text, 'UTF-8'))\n",
        "all_ids"
      ],
      "metadata": {
        "colab": {
          "base_uri": "https://localhost:8080/"
        },
        "id": "KhR7miK_QcLw",
        "outputId": "87de4084-8451-44d6-e48a-0d95a66a3423"
      },
      "execution_count": 11,
      "outputs": [
        {
          "output_type": "execute_result",
          "data": {
            "text/plain": [
              "<tf.Tensor: shape=(1115394,), dtype=int64, numpy=array([19, 48, 57, ..., 46,  9,  1])>"
            ]
          },
          "metadata": {},
          "execution_count": 11
        }
      ]
    },
    {
      "cell_type": "code",
      "source": [
        "ids_dataset = tf.data.Dataset.from_tensor_slices(all_ids)"
      ],
      "metadata": {
        "id": "T6ggykbJQdkx"
      },
      "execution_count": 12,
      "outputs": []
    },
    {
      "cell_type": "code",
      "source": [
        "for ids in ids_dataset.take(10):\n",
        "    print(chars_from_ids(ids).numpy().decode('utf-8'))\n",
        "\n",
        "seq_length = 100"
      ],
      "metadata": {
        "colab": {
          "base_uri": "https://localhost:8080/"
        },
        "id": "uv6VlsTxQfBS",
        "outputId": "6abb2837-5ca8-48bf-8165-03aa822fde0d"
      },
      "execution_count": 13,
      "outputs": [
        {
          "output_type": "stream",
          "name": "stdout",
          "text": [
            "F\n",
            "i\n",
            "r\n",
            "s\n",
            "t\n",
            " \n",
            "C\n",
            "i\n",
            "t\n",
            "i\n"
          ]
        }
      ]
    },
    {
      "cell_type": "code",
      "source": [
        "# Metode batch memungkinkan Anda dengan mudah mengonversi karakter individual ini menjadi urutan ukuran yang diinginkan.\n",
        "sequences = ids_dataset.batch(seq_length+1, drop_remainder=True)\n",
        "\n",
        "for seq in sequences.take(1):\n",
        "  print(chars_from_ids(seq))"
      ],
      "metadata": {
        "colab": {
          "base_uri": "https://localhost:8080/"
        },
        "id": "zFtWxnRDQgi4",
        "outputId": "7d569b2e-cc06-4762-8e54-0d66762d126c"
      },
      "execution_count": 14,
      "outputs": [
        {
          "output_type": "stream",
          "name": "stdout",
          "text": [
            "tf.Tensor(\n",
            "[b'F' b'i' b'r' b's' b't' b' ' b'C' b'i' b't' b'i' b'z' b'e' b'n' b':'\n",
            " b'\\n' b'B' b'e' b'f' b'o' b'r' b'e' b' ' b'w' b'e' b' ' b'p' b'r' b'o'\n",
            " b'c' b'e' b'e' b'd' b' ' b'a' b'n' b'y' b' ' b'f' b'u' b'r' b't' b'h'\n",
            " b'e' b'r' b',' b' ' b'h' b'e' b'a' b'r' b' ' b'm' b'e' b' ' b's' b'p'\n",
            " b'e' b'a' b'k' b'.' b'\\n' b'\\n' b'A' b'l' b'l' b':' b'\\n' b'S' b'p' b'e'\n",
            " b'a' b'k' b',' b' ' b's' b'p' b'e' b'a' b'k' b'.' b'\\n' b'\\n' b'F' b'i'\n",
            " b'r' b's' b't' b' ' b'C' b'i' b't' b'i' b'z' b'e' b'n' b':' b'\\n' b'Y'\n",
            " b'o' b'u' b' '], shape=(101,), dtype=string)\n"
          ]
        }
      ]
    },
    {
      "cell_type": "code",
      "source": [
        "# akan lebih mudah untuk melihat apa yang dilakukan jika Anda menggabungkan token kembali menjadi string:\n",
        "for seq in sequences.take(5):\n",
        "    print(text_from_ids(seq).numpy())"
      ],
      "metadata": {
        "colab": {
          "base_uri": "https://localhost:8080/"
        },
        "id": "v9BpgSdQQiBq",
        "outputId": "9a1e21f8-3553-42c6-f289-4c6815df0059"
      },
      "execution_count": 15,
      "outputs": [
        {
          "output_type": "stream",
          "name": "stdout",
          "text": [
            "b'First Citizen:\\nBefore we proceed any further, hear me speak.\\n\\nAll:\\nSpeak, speak.\\n\\nFirst Citizen:\\nYou '\n",
            "b'are all resolved rather to die than to famish?\\n\\nAll:\\nResolved. resolved.\\n\\nFirst Citizen:\\nFirst, you k'\n",
            "b\"now Caius Marcius is chief enemy to the people.\\n\\nAll:\\nWe know't, we know't.\\n\\nFirst Citizen:\\nLet us ki\"\n",
            "b\"ll him, and we'll have corn at our own price.\\nIs't a verdict?\\n\\nAll:\\nNo more talking on't; let it be d\"\n",
            "b'one: away, away!\\n\\nSecond Citizen:\\nOne word, good citizens.\\n\\nFirst Citizen:\\nWe are accounted poor citi'\n"
          ]
        }
      ]
    },
    {
      "cell_type": "code",
      "source": [
        "# fungsi yang mengambil urutan sebagai masukan, menduplikasi, dan menggesernya untuk menyelaraskan masukan dan label untuk setiap langkah waktu\n",
        "def split_input_target(sequence):\n",
        "  input_text = sequence[:-1]\n",
        "  target_text = sequence[1:]\n",
        "  return input_text, target_text\n",
        "\n",
        "split_input_target(list(\"Tensorflow\"))\n",
        "dataset = sequences.map(split_input_target)\n",
        "\n",
        "for input_example, target_example in dataset.take(1):\n",
        "  print(\"Input :\", text_from_ids(input_example).numpy())\n",
        "  print(\"Target:\", text_from_ids(target_example).numpy())"
      ],
      "metadata": {
        "colab": {
          "base_uri": "https://localhost:8080/"
        },
        "id": "aph88td8Qj1m",
        "outputId": "390276cb-d126-4e1e-b273-91a63994dfa0"
      },
      "execution_count": 16,
      "outputs": [
        {
          "output_type": "stream",
          "name": "stdout",
          "text": [
            "Input : b'First Citizen:\\nBefore we proceed any further, hear me speak.\\n\\nAll:\\nSpeak, speak.\\n\\nFirst Citizen:\\nYou'\n",
            "Target: b'irst Citizen:\\nBefore we proceed any further, hear me speak.\\n\\nAll:\\nSpeak, speak.\\n\\nFirst Citizen:\\nYou '\n"
          ]
        }
      ]
    },
    {
      "cell_type": "code",
      "source": [
        "# Membuat Batch Training\n",
        "# Batch size\n",
        "BATCH_SIZE = 64\n",
        "\n",
        "# Buffer size to shuffle the dataset\n",
        "# (TF data is designed to work with possibly infinite sequences,\n",
        "# so it doesn't attempt to shuffle the entire sequence in memory. Instead,\n",
        "# it maintains a buffer in which it shuffles elements).\n",
        "BUFFER_SIZE = 10000\n",
        "\n",
        "dataset = (\n",
        "    dataset\n",
        "    .shuffle(BUFFER_SIZE)\n",
        "    .batch(BATCH_SIZE, drop_remainder=True)\n",
        "    .prefetch(tf.data.experimental.AUTOTUNE))\n",
        "\n",
        "dataset"
      ],
      "metadata": {
        "colab": {
          "base_uri": "https://localhost:8080/"
        },
        "id": "XOLcr_y1Qn_N",
        "outputId": "9d370606-c927-4e3c-9e63-feaa9aeea85a"
      },
      "execution_count": 17,
      "outputs": [
        {
          "output_type": "execute_result",
          "data": {
            "text/plain": [
              "<_PrefetchDataset element_spec=(TensorSpec(shape=(64, 100), dtype=tf.int64, name=None), TensorSpec(shape=(64, 100), dtype=tf.int64, name=None))>"
            ]
          },
          "metadata": {},
          "execution_count": 17
        }
      ]
    },
    {
      "cell_type": "code",
      "source": [
        "# Buat Model\n",
        "# Length of the vocabulary in StringLookup Layer\n",
        "vocab_size = len(ids_from_chars.get_vocabulary())\n",
        "\n",
        "# The embedding dimension\n",
        "embedding_dim = 256\n",
        "\n",
        "# Number of RNN units\n",
        "rnn_units = 1024"
      ],
      "metadata": {
        "id": "r66lhBDmQqMQ"
      },
      "execution_count": 18,
      "outputs": []
    },
    {
      "cell_type": "code",
      "source": [
        "class MyModel(tf.keras.Model):\n",
        "  def __init__(self, vocab_size, embedding_dim, rnn_units):\n",
        "    super().__init__(self)\n",
        "    self.embedding = tf.keras.layers.Embedding(vocab_size, embedding_dim)\n",
        "    self.gru = tf.keras.layers.GRU(rnn_units,\n",
        "                                   return_sequences=True,\n",
        "                                   return_state=True)\n",
        "    self.dense = tf.keras.layers.Dense(vocab_size)\n",
        "\n",
        "  def call(self, inputs, states=None, return_state=False, training=False):\n",
        "    x = inputs\n",
        "    x = self.embedding(x, training=training)\n",
        "    if states is None:\n",
        "      states = self.gru.get_initial_state(x)\n",
        "    x, states = self.gru(x, initial_state=states, training=training)\n",
        "    x = self.dense(x, training=training)\n",
        "\n",
        "    if return_state:\n",
        "      return x, states\n",
        "    else:\n",
        "      return x"
      ],
      "metadata": {
        "id": "gcF_ph8sQruK"
      },
      "execution_count": 19,
      "outputs": []
    },
    {
      "cell_type": "code",
      "source": [
        "model = MyModel(\n",
        "    vocab_size=vocab_size,\n",
        "    embedding_dim=embedding_dim,\n",
        "    rnn_units=rnn_units)\n",
        "\n",
        "\n",
        "model.compile(optimizer = tf.keras.optimizers.Adam(),\n",
        "              loss=tf.keras.losses.SparseCategoricalCrossentropy(from_logits=True))\n",
        "\n",
        "\n",
        "model.fit(dataset, epochs=1)"
      ],
      "metadata": {
        "colab": {
          "base_uri": "https://localhost:8080/"
        },
        "id": "3C0AjVIkQuT8",
        "outputId": "38681189-f4b4-4d1b-9886-072fe74a5afc"
      },
      "execution_count": 21,
      "outputs": [
        {
          "output_type": "stream",
          "name": "stdout",
          "text": [
            "172/172 [==============================] - 630s 4s/step - loss: 2.7351\n"
          ]
        },
        {
          "output_type": "execute_result",
          "data": {
            "text/plain": [
              "<keras.src.callbacks.History at 0x7909e8ae40d0>"
            ]
          },
          "metadata": {},
          "execution_count": 21
        }
      ]
    },
    {
      "cell_type": "code",
      "source": [
        "import time\n",
        "import os\n",
        "import tensorflow as tf\n",
        "\n",
        "EPOCHS = 10\n",
        "\n",
        "mean = tf.metrics.Mean()\n",
        "\n",
        "for epoch in range(EPOCHS):\n",
        "    start = time.time()\n",
        "\n",
        "    mean.reset_states()\n",
        "    for batch_n, (inp, target) in enumerate(dataset):\n",
        "        # Ensure `inp` and `target` are appropriately formatted, e.g., as a tuple or list\n",
        "        logs = model.train_step([inp, target])  # Or model.train_step((inp, target))\n",
        "        mean.update_state(logs['loss'])\n",
        "\n",
        "        if batch_n % 50 == 0:\n",
        "            template = f\"Epoch {epoch+1} Batch {batch_n} Loss {logs['loss']:.4f}\"\n",
        "            print(template)\n",
        "\n",
        "    # Saving (checkpoint) the model every 5 epochs\n",
        "    checkpoint_dir = './training_checkpoints'  # Direktori penyimpanan bobot model yang sesuai\n",
        "    checkpoint_prefix = os.path.join(checkpoint_dir, \"ckpt_{epoch}\")\n",
        "    if (epoch + 1) % 5 == 0:\n",
        "        model.save_weights(checkpoint_prefix.format(epoch=epoch))\n",
        "\n",
        "    print()\n",
        "    print(f'Epoch {epoch+1} Loss: {mean.result().numpy():.4f}')\n",
        "    print(f'Time taken for 1 epoch {time.time() - start:.2f} sec')\n",
        "    print(\"_\" * 80)\n",
        "\n",
        "model.save_weights(checkpoint_prefix.format(epoch=epoch))"
      ],
      "metadata": {
        "colab": {
          "base_uri": "https://localhost:8080/"
        },
        "id": "s3b-ccOBQzP3",
        "outputId": "7a9b8d38-7a89-4478-9c90-ec86631a7486"
      },
      "execution_count": 24,
      "outputs": [
        {
          "output_type": "stream",
          "name": "stdout",
          "text": [
            "Epoch 1 Batch 0 Loss 1.5507\n",
            "Epoch 1 Batch 50 Loss 1.5393\n",
            "Epoch 1 Batch 100 Loss 1.5290\n",
            "Epoch 1 Batch 150 Loss 1.5193\n",
            "\n",
            "Epoch 1 Loss: 1.5323\n",
            "Time taken for 1 epoch 801.91 sec\n",
            "________________________________________________________________________________\n",
            "Epoch 2 Batch 0 Loss 1.5152\n",
            "Epoch 2 Batch 50 Loss 1.5044\n",
            "Epoch 2 Batch 100 Loss 1.4947\n",
            "Epoch 2 Batch 150 Loss 1.4856\n",
            "\n",
            "Epoch 2 Loss: 1.4978\n",
            "Time taken for 1 epoch 737.54 sec\n",
            "________________________________________________________________________________\n",
            "Epoch 3 Batch 0 Loss 1.4819\n",
            "Epoch 3 Batch 50 Loss 1.4716\n",
            "Epoch 3 Batch 100 Loss 1.4623\n",
            "Epoch 3 Batch 150 Loss 1.4537\n",
            "\n",
            "Epoch 3 Loss: 1.4653\n",
            "Time taken for 1 epoch 742.94 sec\n",
            "________________________________________________________________________________\n",
            "Epoch 4 Batch 0 Loss 1.4500\n",
            "Epoch 4 Batch 50 Loss 1.4401\n",
            "Epoch 4 Batch 100 Loss 1.4310\n",
            "Epoch 4 Batch 150 Loss 1.4228\n",
            "\n",
            "Epoch 4 Loss: 1.4340\n",
            "Time taken for 1 epoch 741.92 sec\n",
            "________________________________________________________________________________\n",
            "Epoch 5 Batch 0 Loss 1.4193\n",
            "Epoch 5 Batch 50 Loss 1.4096\n",
            "Epoch 5 Batch 100 Loss 1.4008\n",
            "Epoch 5 Batch 150 Loss 1.3927\n",
            "\n",
            "Epoch 5 Loss: 1.4036\n",
            "Time taken for 1 epoch 741.98 sec\n",
            "________________________________________________________________________________\n",
            "Epoch 6 Batch 0 Loss 1.3893\n",
            "Epoch 6 Batch 50 Loss 1.3798\n",
            "Epoch 6 Batch 100 Loss 1.3711\n",
            "Epoch 6 Batch 150 Loss 1.3632\n",
            "\n",
            "Epoch 6 Loss: 1.3739\n",
            "Time taken for 1 epoch 735.41 sec\n",
            "________________________________________________________________________________\n",
            "Epoch 7 Batch 0 Loss 1.3598\n",
            "Epoch 7 Batch 50 Loss 1.3505\n",
            "Epoch 7 Batch 100 Loss 1.3419\n",
            "Epoch 7 Batch 150 Loss 1.3341\n",
            "\n",
            "Epoch 7 Loss: 1.3447\n",
            "Time taken for 1 epoch 736.64 sec\n",
            "________________________________________________________________________________\n",
            "Epoch 8 Batch 0 Loss 1.3308\n",
            "Epoch 8 Batch 50 Loss 1.3215\n",
            "Epoch 8 Batch 100 Loss 1.3130\n",
            "Epoch 8 Batch 150 Loss 1.3053\n",
            "\n",
            "Epoch 8 Loss: 1.3158\n",
            "Time taken for 1 epoch 736.89 sec\n",
            "________________________________________________________________________________\n",
            "Epoch 9 Batch 0 Loss 1.3021\n",
            "Epoch 9 Batch 50 Loss 1.2930\n",
            "Epoch 9 Batch 100 Loss 1.2847\n",
            "Epoch 9 Batch 150 Loss 1.2771\n",
            "\n",
            "Epoch 9 Loss: 1.2874\n",
            "Time taken for 1 epoch 735.31 sec\n",
            "________________________________________________________________________________\n",
            "Epoch 10 Batch 0 Loss 1.2739\n",
            "Epoch 10 Batch 50 Loss 1.2650\n",
            "Epoch 10 Batch 100 Loss 1.2568\n",
            "Epoch 10 Batch 150 Loss 1.2494\n",
            "\n",
            "Epoch 10 Loss: 1.2595\n",
            "Time taken for 1 epoch 741.95 sec\n",
            "________________________________________________________________________________\n"
          ]
        }
      ]
    },
    {
      "cell_type": "markdown",
      "source": [
        "**Perbedaanya dengan praktikum 2**\n",
        "\n",
        "Secara singkat, metode train_step yang mengikuti konvensi Keras lebih sederhana dan mengotomatisasi sebagian besar tugas seperti pelacakan metrik dan manajemen status pelatihan. Namun, penggunaan tf.GradientTape memberikan fleksibilitas yang lebih besar untuk mengkustomisasi perhitungan gradien dan operasi lain di dalam pelatihan data."
      ],
      "metadata": {
        "id": "D_u75Eu2m2lJ"
      }
    }
  ]
}